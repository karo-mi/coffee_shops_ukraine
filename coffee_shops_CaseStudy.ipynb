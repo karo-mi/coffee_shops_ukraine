{
 "cells": [
  {
   "cell_type": "markdown",
   "id": "forward-garden",
   "metadata": {
    "id": "bA5ajAmk7XH6"
   },
   "source": [
    "# DataCamp Certification Case Study\n",
    "\n",
    "### Project Brief\n",
    "\n",
    "You are on the data science team for a coffee company that is looking to expand their business into Ukraine. They want to get an understanding of the existing coffee shop market there.\n",
    "\n",
    "You have a dataset from Google businesses. It contains information about coffee shops in Ukraine. The marketing manager wants to identify the key coffee shop segments. They will use this to construct their marketing plan. In their current location, they split the market into 5 segments. The marketing manager wants to know how many segments are in this new market, and their key features.\n",
    "\n",
    "You will be presenting your findings to the Marketing Manager, who has no data science background."
   ]
  },
  {
   "cell_type": "markdown",
   "id": "8d71dd0c-7964-4a83-a397-382235d798a1",
   "metadata": {},
   "source": [
    "# Questions\n",
    "1. What types of coffee shops are currently in Ukraine? What kind of services they propose?\n",
    "2. Which of them are the most promising? \n",
    "3. Where they are located?"
   ]
  },
  {
   "cell_type": "markdown",
   "id": "861bc8bc-892c-4e65-8a4f-dab42a2c3458",
   "metadata": {},
   "source": [
    "## Step 1. Data Cleaning"
   ]
  },
  {
   "cell_type": "code",
   "execution_count": 1,
   "id": "9242dd03-35fa-44c3-b7d9-987caebd23b9",
   "metadata": {},
   "outputs": [],
   "source": [
    "import pandas as pd\n",
    "import numpy as np\n",
    "import seaborn as sns\n",
    "import matplotlib.pyplot as plt"
   ]
  },
  {
   "cell_type": "code",
   "execution_count": 2,
   "id": "00b208d3-10a5-452b-bb2f-e30b593f2ae6",
   "metadata": {},
   "outputs": [],
   "source": [
    "data = pd.read_csv(\"data/coffee_shops.csv\")"
   ]
  },
  {
   "cell_type": "code",
   "execution_count": 3,
   "id": "93fd01e0-2913-4ad1-9f7e-b00879b2fb3a",
   "metadata": {},
   "outputs": [
    {
     "data": {
      "text/html": [
       "<div>\n",
       "<style scoped>\n",
       "    .dataframe tbody tr th:only-of-type {\n",
       "        vertical-align: middle;\n",
       "    }\n",
       "\n",
       "    .dataframe tbody tr th {\n",
       "        vertical-align: top;\n",
       "    }\n",
       "\n",
       "    .dataframe thead th {\n",
       "        text-align: right;\n",
       "    }\n",
       "</style>\n",
       "<table border=\"1\" class=\"dataframe\">\n",
       "  <thead>\n",
       "    <tr style=\"text-align: right;\">\n",
       "      <th></th>\n",
       "      <th>Region</th>\n",
       "      <th>Place name</th>\n",
       "      <th>Place type</th>\n",
       "      <th>Rating</th>\n",
       "      <th>Reviews</th>\n",
       "      <th>Price</th>\n",
       "      <th>Delivery option</th>\n",
       "      <th>Dine in option</th>\n",
       "      <th>Takeout option</th>\n",
       "    </tr>\n",
       "  </thead>\n",
       "  <tbody>\n",
       "    <tr>\n",
       "      <th>0</th>\n",
       "      <td>Mariupol</td>\n",
       "      <td>Dim Kavu</td>\n",
       "      <td>Coffee store</td>\n",
       "      <td>4.6</td>\n",
       "      <td>206.0</td>\n",
       "      <td>NaN</td>\n",
       "      <td>NaN</td>\n",
       "      <td>NaN</td>\n",
       "      <td>NaN</td>\n",
       "    </tr>\n",
       "    <tr>\n",
       "      <th>1</th>\n",
       "      <td>Mariupol</td>\n",
       "      <td>Коферум</td>\n",
       "      <td>Cafe</td>\n",
       "      <td>5.0</td>\n",
       "      <td>24.0</td>\n",
       "      <td>$$</td>\n",
       "      <td>False</td>\n",
       "      <td>NaN</td>\n",
       "      <td>True</td>\n",
       "    </tr>\n",
       "    <tr>\n",
       "      <th>2</th>\n",
       "      <td>Mariupol</td>\n",
       "      <td>Кофейня Світ Чаю</td>\n",
       "      <td>Coffee shop</td>\n",
       "      <td>5.0</td>\n",
       "      <td>11.0</td>\n",
       "      <td>NaN</td>\n",
       "      <td>NaN</td>\n",
       "      <td>NaN</td>\n",
       "      <td>True</td>\n",
       "    </tr>\n",
       "    <tr>\n",
       "      <th>3</th>\n",
       "      <td>Mariupol</td>\n",
       "      <td>Кофейня Starcoff</td>\n",
       "      <td>Coffee shop</td>\n",
       "      <td>4.4</td>\n",
       "      <td>331.0</td>\n",
       "      <td>$$</td>\n",
       "      <td>False</td>\n",
       "      <td>True</td>\n",
       "      <td>True</td>\n",
       "    </tr>\n",
       "    <tr>\n",
       "      <th>4</th>\n",
       "      <td>Mariupol</td>\n",
       "      <td>Кофейня \"Friend Zone\"</td>\n",
       "      <td>Coffee shop</td>\n",
       "      <td>5.0</td>\n",
       "      <td>12.0</td>\n",
       "      <td>NaN</td>\n",
       "      <td>NaN</td>\n",
       "      <td>True</td>\n",
       "      <td>True</td>\n",
       "    </tr>\n",
       "  </tbody>\n",
       "</table>\n",
       "</div>"
      ],
      "text/plain": [
       "     Region             Place name    Place type  Rating  Reviews Price  \\\n",
       "0  Mariupol               Dim Kavu  Coffee store     4.6    206.0   NaN   \n",
       "1  Mariupol                Коферум          Cafe     5.0     24.0    $$   \n",
       "2  Mariupol       Кофейня Світ Чаю   Coffee shop     5.0     11.0   NaN   \n",
       "3  Mariupol       Кофейня Starcoff   Coffee shop     4.4    331.0    $$   \n",
       "4  Mariupol  Кофейня \"Friend Zone\"   Coffee shop     5.0     12.0   NaN   \n",
       "\n",
       "  Delivery option Dine in option Takeout option  \n",
       "0             NaN            NaN            NaN  \n",
       "1           False            NaN           True  \n",
       "2             NaN            NaN           True  \n",
       "3           False           True           True  \n",
       "4             NaN           True           True  "
      ]
     },
     "execution_count": 3,
     "metadata": {},
     "output_type": "execute_result"
    }
   ],
   "source": [
    "data.head(5)"
   ]
  },
  {
   "cell_type": "code",
   "execution_count": 4,
   "id": "ac3e2118-11fb-4e2e-9e13-d8c3776c8a6a",
   "metadata": {},
   "outputs": [
    {
     "name": "stdout",
     "output_type": "stream",
     "text": [
      "<class 'pandas.core.frame.DataFrame'>\n",
      "RangeIndex: 200 entries, 0 to 199\n",
      "Data columns (total 9 columns):\n",
      " #   Column           Non-Null Count  Dtype  \n",
      "---  ------           --------------  -----  \n",
      " 0   Region           200 non-null    object \n",
      " 1   Place name       200 non-null    object \n",
      " 2   Place type       200 non-null    object \n",
      " 3   Rating           198 non-null    float64\n",
      " 4   Reviews          198 non-null    float64\n",
      " 5   Price            122 non-null    object \n",
      " 6   Delivery option  129 non-null    object \n",
      " 7   Dine in option   140 non-null    object \n",
      " 8   Takeout option   144 non-null    object \n",
      "dtypes: float64(2), object(7)\n",
      "memory usage: 14.2+ KB\n"
     ]
    }
   ],
   "source": [
    "data.info()"
   ]
  },
  {
   "cell_type": "code",
   "execution_count": 5,
   "id": "1091d087-a32a-47ba-83e9-0ca20eaf4c16",
   "metadata": {},
   "outputs": [
    {
     "data": {
      "text/plain": [
       "Kiev           20\n",
       "Zaporozhye     20\n",
       "Poltava        20\n",
       "Mariupol       20\n",
       "Dnipro         20\n",
       "Khrivoy Rog    20\n",
       "Lviv           20\n",
       "Odessa         20\n",
       "Kherson        20\n",
       "Kharkiv        20\n",
       "Name: Region, dtype: int64"
      ]
     },
     "execution_count": 5,
     "metadata": {},
     "output_type": "execute_result"
    }
   ],
   "source": [
    "data.Region.value_counts()"
   ]
  },
  {
   "cell_type": "markdown",
   "id": "abe784ec-139f-4e03-96ad-e81d0dd5b3a0",
   "metadata": {},
   "source": [
    "Regions are split equally."
   ]
  },
  {
   "cell_type": "code",
   "execution_count": 6,
   "id": "4ebcaaa2-7932-4cea-b6c3-588aed02e632",
   "metadata": {},
   "outputs": [
    {
     "data": {
      "text/plain": [
       "Coffee shop                 97\n",
       "Cafe                        58\n",
       "Espresso bar                20\n",
       "Coffee store                11\n",
       "Store                        3\n",
       "Coffee roasters              2\n",
       "Pastry shop                  2\n",
       "Coffee stand                 1\n",
       "Restaurant                   1\n",
       "E-commerce service           1\n",
       "European restaurant          1\n",
       "Internet shop                1\n",
       "Appliance repair service     1\n",
       "Chocolate shop               1\n",
       "Name: Place type, dtype: int64"
      ]
     },
     "execution_count": 6,
     "metadata": {},
     "output_type": "execute_result"
    }
   ],
   "source": [
    "data['Place type'].value_counts()"
   ]
  },
  {
   "cell_type": "code",
   "execution_count": 7,
   "id": "98d4e933-15b3-4599-b1c5-8089472d80ff",
   "metadata": {},
   "outputs": [
    {
     "data": {
      "text/plain": [
       "False    94\n",
       "True     35\n",
       "Name: Delivery option, dtype: int64"
      ]
     },
     "execution_count": 7,
     "metadata": {},
     "output_type": "execute_result"
    }
   ],
   "source": [
    "data['Delivery option'].value_counts()"
   ]
  },
  {
   "cell_type": "code",
   "execution_count": 8,
   "id": "e0de553c-111b-42d4-a883-36fb8a6931b2",
   "metadata": {},
   "outputs": [
    {
     "data": {
      "text/plain": [
       "$$     116\n",
       "$$$      4\n",
       "$        2\n",
       "Name: Price, dtype: int64"
      ]
     },
     "execution_count": 8,
     "metadata": {},
     "output_type": "execute_result"
    }
   ],
   "source": [
    "data.Price.value_counts()\n"
   ]
  },
  {
   "cell_type": "code",
   "execution_count": 9,
   "id": "1c726bb2-14b5-4d7c-89ef-3458d1db9108",
   "metadata": {},
   "outputs": [
    {
     "data": {
      "text/plain": [
       "Region              0\n",
       "Place name          0\n",
       "Place type          0\n",
       "Rating              2\n",
       "Reviews             2\n",
       "Price              78\n",
       "Delivery option    71\n",
       "Dine in option     60\n",
       "Takeout option     56\n",
       "dtype: int64"
      ]
     },
     "execution_count": 9,
     "metadata": {},
     "output_type": "execute_result"
    }
   ],
   "source": [
    "data.isna().sum()"
   ]
  },
  {
   "cell_type": "code",
   "execution_count": 10,
   "id": "adaa5413-8cf8-430e-b86f-d69d85de70a2",
   "metadata": {},
   "outputs": [
    {
     "data": {
      "text/plain": [
       "4.6    47\n",
       "4.7    39\n",
       "4.9    25\n",
       "4.5    22\n",
       "5.0    21\n",
       "4.8    18\n",
       "4.4    12\n",
       "4.3     6\n",
       "4.2     2\n",
       "3.9     2\n",
       "4.0     2\n",
       "4.1     2\n",
       "Name: Rating, dtype: int64"
      ]
     },
     "execution_count": 10,
     "metadata": {},
     "output_type": "execute_result"
    }
   ],
   "source": [
    "data.Rating.value_counts()"
   ]
  },
  {
   "cell_type": "code",
   "execution_count": 11,
   "id": "1699b3ce-35d5-45d7-a36f-6db71daca85f",
   "metadata": {},
   "outputs": [
    {
     "data": {
      "text/plain": [
       "count    198.000000\n",
       "mean       4.663636\n",
       "std        0.221648\n",
       "min        3.900000\n",
       "25%        4.600000\n",
       "50%        4.700000\n",
       "75%        4.800000\n",
       "max        5.000000\n",
       "Name: Rating, dtype: float64"
      ]
     },
     "execution_count": 11,
     "metadata": {},
     "output_type": "execute_result"
    }
   ],
   "source": [
    "data.Rating.describe()"
   ]
  },
  {
   "cell_type": "code",
   "execution_count": 12,
   "id": "0abc6fd9-bce0-4913-8005-074bea5edd5a",
   "metadata": {},
   "outputs": [
    {
     "data": {
      "text/plain": [
       "count      198.000000\n",
       "mean       622.494949\n",
       "std       1400.898666\n",
       "min          3.000000\n",
       "25%         47.500000\n",
       "50%        271.500000\n",
       "75%        786.250000\n",
       "max      17937.000000\n",
       "Name: Reviews, dtype: float64"
      ]
     },
     "execution_count": 12,
     "metadata": {},
     "output_type": "execute_result"
    }
   ],
   "source": [
    "data.Reviews.describe()"
   ]
  },
  {
   "cell_type": "code",
   "execution_count": 13,
   "id": "5e323e60-3fa7-4f3f-9d97-bd4aa8db48ef",
   "metadata": {},
   "outputs": [
    {
     "data": {
      "text/plain": [
       "Region              0\n",
       "Place name          0\n",
       "Place type          0\n",
       "Rating              0\n",
       "Reviews             0\n",
       "Price              78\n",
       "Delivery option    71\n",
       "Dine in option     60\n",
       "Takeout option     56\n",
       "dtype: int64"
      ]
     },
     "execution_count": 13,
     "metadata": {},
     "output_type": "execute_result"
    }
   ],
   "source": [
    "data['Rating'] = data['Rating'].fillna(data['Rating'].mean())\n",
    "data['Reviews'] = data['Reviews'].fillna(data['Reviews'].mean())\n",
    "data.isna().sum()"
   ]
  },
  {
   "cell_type": "markdown",
   "id": "863ae91a-911b-4b55-942c-c67adb756aca",
   "metadata": {},
   "source": [
    "Drop 'Price' column because has 39% missing values and after imputation (by most frequent, average, median etc) it will hold small amount of info anyway (97% will be \"$$\")."
   ]
  },
  {
   "cell_type": "code",
   "execution_count": 14,
   "id": "c04d050c-5d18-43d0-87a1-d89248579046",
   "metadata": {},
   "outputs": [],
   "source": [
    "data = data.drop('Price', axis=1)"
   ]
  },
  {
   "cell_type": "code",
   "execution_count": 15,
   "id": "8ce04d94-907f-4120-863c-256d4aec4453",
   "metadata": {},
   "outputs": [
    {
     "data": {
      "text/plain": [
       "Region              0\n",
       "Place name          0\n",
       "Place type          0\n",
       "Rating              0\n",
       "Reviews             0\n",
       "Delivery option    71\n",
       "Dine in option     60\n",
       "Takeout option     56\n",
       "dtype: int64"
      ]
     },
     "execution_count": 15,
     "metadata": {},
     "output_type": "execute_result"
    }
   ],
   "source": [
    "data.isna().sum()"
   ]
  },
  {
   "cell_type": "code",
   "execution_count": 16,
   "id": "65f1dd22-1762-4b23-8c11-5d4ca96a0e87",
   "metadata": {},
   "outputs": [
    {
     "data": {
      "text/html": [
       "<div>\n",
       "<style scoped>\n",
       "    .dataframe tbody tr th:only-of-type {\n",
       "        vertical-align: middle;\n",
       "    }\n",
       "\n",
       "    .dataframe tbody tr th {\n",
       "        vertical-align: top;\n",
       "    }\n",
       "\n",
       "    .dataframe thead th {\n",
       "        text-align: right;\n",
       "    }\n",
       "</style>\n",
       "<table border=\"1\" class=\"dataframe\">\n",
       "  <thead>\n",
       "    <tr style=\"text-align: right;\">\n",
       "      <th></th>\n",
       "      <th>Delivery option</th>\n",
       "      <th>Dine in option</th>\n",
       "      <th>Takeout option</th>\n",
       "    </tr>\n",
       "  </thead>\n",
       "  <tbody>\n",
       "    <tr>\n",
       "      <th>False</th>\n",
       "      <td>94</td>\n",
       "      <td>NaN</td>\n",
       "      <td>NaN</td>\n",
       "    </tr>\n",
       "    <tr>\n",
       "      <th>True</th>\n",
       "      <td>35</td>\n",
       "      <td>140.0</td>\n",
       "      <td>144.0</td>\n",
       "    </tr>\n",
       "  </tbody>\n",
       "</table>\n",
       "</div>"
      ],
      "text/plain": [
       "       Delivery option  Dine in option  Takeout option\n",
       "False               94             NaN             NaN\n",
       "True                35           140.0           144.0"
      ]
     },
     "execution_count": 16,
     "metadata": {},
     "output_type": "execute_result"
    }
   ],
   "source": [
    "data[['Delivery option', 'Dine in option', 'Takeout option']].apply(pd.Series.value_counts)"
   ]
  },
  {
   "cell_type": "markdown",
   "id": "d216d5b1-51bd-4066-9e46-631e515bbb66",
   "metadata": {},
   "source": [
    "Dine in option and Takeout option are simple to impute - if we have only True values, it means that missing value is True; Delivery option is tricky (False and True values are present in dataset)."
   ]
  },
  {
   "cell_type": "code",
   "execution_count": 17,
   "id": "f61bffc1-0438-4c32-9ffd-0f2a62d36c44",
   "metadata": {},
   "outputs": [
    {
     "name": "stdout",
     "output_type": "stream",
     "text": [
      "Region             0\n",
      "Place name         0\n",
      "Place type         0\n",
      "Rating             0\n",
      "Reviews            0\n",
      "Delivery option    0\n",
      "Dine in option     0\n",
      "Takeout option     0\n",
      "dtype: int64\n"
     ]
    }
   ],
   "source": [
    "data['Dine in option'] = data['Dine in option'].fillna('False')\n",
    "data['Takeout option'] = data['Takeout option'].fillna('False')\n",
    "data['Delivery option'] = data['Delivery option'].fillna('Unknown')\n",
    "print(data.isna().sum())"
   ]
  },
  {
   "cell_type": "code",
   "execution_count": 18,
   "id": "018e8981-9468-4076-a621-267afca8fdaf",
   "metadata": {},
   "outputs": [
    {
     "data": {
      "text/html": [
       "<div>\n",
       "<style scoped>\n",
       "    .dataframe tbody tr th:only-of-type {\n",
       "        vertical-align: middle;\n",
       "    }\n",
       "\n",
       "    .dataframe tbody tr th {\n",
       "        vertical-align: top;\n",
       "    }\n",
       "\n",
       "    .dataframe thead th {\n",
       "        text-align: right;\n",
       "    }\n",
       "</style>\n",
       "<table border=\"1\" class=\"dataframe\">\n",
       "  <thead>\n",
       "    <tr style=\"text-align: right;\">\n",
       "      <th></th>\n",
       "      <th>Region</th>\n",
       "      <th>Place name</th>\n",
       "      <th>Place type</th>\n",
       "      <th>Rating</th>\n",
       "      <th>Reviews</th>\n",
       "      <th>Delivery option</th>\n",
       "      <th>Dine in option</th>\n",
       "      <th>Takeout option</th>\n",
       "    </tr>\n",
       "  </thead>\n",
       "  <tbody>\n",
       "    <tr>\n",
       "      <th>23</th>\n",
       "      <td>Poltava</td>\n",
       "      <td>coffee house</td>\n",
       "      <td>cafe</td>\n",
       "      <td>4.7</td>\n",
       "      <td>329.0</td>\n",
       "      <td>False</td>\n",
       "      <td>False</td>\n",
       "      <td>True</td>\n",
       "    </tr>\n",
       "    <tr>\n",
       "      <th>45</th>\n",
       "      <td>Kherson</td>\n",
       "      <td>coffee house</td>\n",
       "      <td>coffee shop</td>\n",
       "      <td>4.7</td>\n",
       "      <td>279.0</td>\n",
       "      <td>False</td>\n",
       "      <td>True</td>\n",
       "      <td>True</td>\n",
       "    </tr>\n",
       "    <tr>\n",
       "      <th>47</th>\n",
       "      <td>Kherson</td>\n",
       "      <td>coffeeok</td>\n",
       "      <td>coffee shop</td>\n",
       "      <td>4.9</td>\n",
       "      <td>18.0</td>\n",
       "      <td>False</td>\n",
       "      <td>False</td>\n",
       "      <td>True</td>\n",
       "    </tr>\n",
       "    <tr>\n",
       "      <th>54</th>\n",
       "      <td>Kherson</td>\n",
       "      <td>coffee house</td>\n",
       "      <td>coffee shop</td>\n",
       "      <td>4.4</td>\n",
       "      <td>67.0</td>\n",
       "      <td>False</td>\n",
       "      <td>False</td>\n",
       "      <td>True</td>\n",
       "    </tr>\n",
       "    <tr>\n",
       "      <th>66</th>\n",
       "      <td>Zaporozhye</td>\n",
       "      <td>dim kavy</td>\n",
       "      <td>espresso bar</td>\n",
       "      <td>4.8</td>\n",
       "      <td>118.0</td>\n",
       "      <td>Unknown</td>\n",
       "      <td>False</td>\n",
       "      <td>False</td>\n",
       "    </tr>\n",
       "    <tr>\n",
       "      <th>68</th>\n",
       "      <td>Zaporozhye</td>\n",
       "      <td>coffee house</td>\n",
       "      <td>store</td>\n",
       "      <td>4.7</td>\n",
       "      <td>132.0</td>\n",
       "      <td>Unknown</td>\n",
       "      <td>False</td>\n",
       "      <td>False</td>\n",
       "    </tr>\n",
       "    <tr>\n",
       "      <th>71</th>\n",
       "      <td>Zaporozhye</td>\n",
       "      <td>my coffee</td>\n",
       "      <td>coffee shop</td>\n",
       "      <td>4.5</td>\n",
       "      <td>341.0</td>\n",
       "      <td>False</td>\n",
       "      <td>True</td>\n",
       "      <td>True</td>\n",
       "    </tr>\n",
       "    <tr>\n",
       "      <th>75</th>\n",
       "      <td>Zaporozhye</td>\n",
       "      <td>svit kavy</td>\n",
       "      <td>coffee shop</td>\n",
       "      <td>4.6</td>\n",
       "      <td>488.0</td>\n",
       "      <td>False</td>\n",
       "      <td>True</td>\n",
       "      <td>True</td>\n",
       "    </tr>\n",
       "    <tr>\n",
       "      <th>97</th>\n",
       "      <td>Odessa</td>\n",
       "      <td>my coffee</td>\n",
       "      <td>coffee shop</td>\n",
       "      <td>4.8</td>\n",
       "      <td>150.0</td>\n",
       "      <td>False</td>\n",
       "      <td>True</td>\n",
       "      <td>True</td>\n",
       "    </tr>\n",
       "    <tr>\n",
       "      <th>100</th>\n",
       "      <td>Lviv</td>\n",
       "      <td>lviv coffee manufacture</td>\n",
       "      <td>coffee shop</td>\n",
       "      <td>4.7</td>\n",
       "      <td>17937.0</td>\n",
       "      <td>True</td>\n",
       "      <td>True</td>\n",
       "      <td>True</td>\n",
       "    </tr>\n",
       "    <tr>\n",
       "      <th>101</th>\n",
       "      <td>Lviv</td>\n",
       "      <td>svit kavy</td>\n",
       "      <td>coffee shop</td>\n",
       "      <td>4.6</td>\n",
       "      <td>2931.0</td>\n",
       "      <td>Unknown</td>\n",
       "      <td>True</td>\n",
       "      <td>True</td>\n",
       "    </tr>\n",
       "    <tr>\n",
       "      <th>107</th>\n",
       "      <td>Lviv</td>\n",
       "      <td>svit kavy</td>\n",
       "      <td>coffee shop</td>\n",
       "      <td>4.3</td>\n",
       "      <td>102.0</td>\n",
       "      <td>Unknown</td>\n",
       "      <td>True</td>\n",
       "      <td>True</td>\n",
       "    </tr>\n",
       "    <tr>\n",
       "      <th>108</th>\n",
       "      <td>Lviv</td>\n",
       "      <td>lviv coffee manufacture</td>\n",
       "      <td>coffee shop</td>\n",
       "      <td>4.5</td>\n",
       "      <td>778.0</td>\n",
       "      <td>False</td>\n",
       "      <td>True</td>\n",
       "      <td>True</td>\n",
       "    </tr>\n",
       "    <tr>\n",
       "      <th>112</th>\n",
       "      <td>Lviv</td>\n",
       "      <td>coffee house</td>\n",
       "      <td>coffee shop</td>\n",
       "      <td>4.7</td>\n",
       "      <td>363.0</td>\n",
       "      <td>False</td>\n",
       "      <td>True</td>\n",
       "      <td>True</td>\n",
       "    </tr>\n",
       "    <tr>\n",
       "      <th>120</th>\n",
       "      <td>Khrivoy Rog</td>\n",
       "      <td>sv кафе</td>\n",
       "      <td>cafe</td>\n",
       "      <td>4.5</td>\n",
       "      <td>998.0</td>\n",
       "      <td>True</td>\n",
       "      <td>True</td>\n",
       "      <td>True</td>\n",
       "    </tr>\n",
       "    <tr>\n",
       "      <th>132</th>\n",
       "      <td>Khrivoy Rog</td>\n",
       "      <td>sv кафе</td>\n",
       "      <td>cafe</td>\n",
       "      <td>4.6</td>\n",
       "      <td>740.0</td>\n",
       "      <td>False</td>\n",
       "      <td>True</td>\n",
       "      <td>True</td>\n",
       "    </tr>\n",
       "    <tr>\n",
       "      <th>140</th>\n",
       "      <td>Kiev</td>\n",
       "      <td>coffeeok</td>\n",
       "      <td>coffee store</td>\n",
       "      <td>4.9</td>\n",
       "      <td>1820.0</td>\n",
       "      <td>True</td>\n",
       "      <td>False</td>\n",
       "      <td>False</td>\n",
       "    </tr>\n",
       "    <tr>\n",
       "      <th>151</th>\n",
       "      <td>Kiev</td>\n",
       "      <td>kaffa</td>\n",
       "      <td>cafe</td>\n",
       "      <td>4.7</td>\n",
       "      <td>1281.0</td>\n",
       "      <td>False</td>\n",
       "      <td>True</td>\n",
       "      <td>True</td>\n",
       "    </tr>\n",
       "    <tr>\n",
       "      <th>154</th>\n",
       "      <td>Kiev</td>\n",
       "      <td>kaffa</td>\n",
       "      <td>espresso bar</td>\n",
       "      <td>4.8</td>\n",
       "      <td>824.0</td>\n",
       "      <td>False</td>\n",
       "      <td>True</td>\n",
       "      <td>True</td>\n",
       "    </tr>\n",
       "    <tr>\n",
       "      <th>161</th>\n",
       "      <td>Kharkiv</td>\n",
       "      <td>coffee house</td>\n",
       "      <td>espresso bar</td>\n",
       "      <td>4.5</td>\n",
       "      <td>268.0</td>\n",
       "      <td>Unknown</td>\n",
       "      <td>False</td>\n",
       "      <td>False</td>\n",
       "    </tr>\n",
       "    <tr>\n",
       "      <th>162</th>\n",
       "      <td>Kharkiv</td>\n",
       "      <td>sweeter</td>\n",
       "      <td>coffee shop</td>\n",
       "      <td>4.6</td>\n",
       "      <td>642.0</td>\n",
       "      <td>False</td>\n",
       "      <td>True</td>\n",
       "      <td>True</td>\n",
       "    </tr>\n",
       "    <tr>\n",
       "      <th>167</th>\n",
       "      <td>Kharkiv</td>\n",
       "      <td>coffee house</td>\n",
       "      <td>cafe</td>\n",
       "      <td>4.6</td>\n",
       "      <td>96.0</td>\n",
       "      <td>False</td>\n",
       "      <td>False</td>\n",
       "      <td>False</td>\n",
       "    </tr>\n",
       "    <tr>\n",
       "      <th>171</th>\n",
       "      <td>Kharkiv</td>\n",
       "      <td>dim kavy</td>\n",
       "      <td>espresso bar</td>\n",
       "      <td>4.7</td>\n",
       "      <td>185.0</td>\n",
       "      <td>Unknown</td>\n",
       "      <td>False</td>\n",
       "      <td>False</td>\n",
       "    </tr>\n",
       "    <tr>\n",
       "      <th>172</th>\n",
       "      <td>Kharkiv</td>\n",
       "      <td>dim kavy</td>\n",
       "      <td>coffee store</td>\n",
       "      <td>4.7</td>\n",
       "      <td>222.0</td>\n",
       "      <td>Unknown</td>\n",
       "      <td>True</td>\n",
       "      <td>True</td>\n",
       "    </tr>\n",
       "    <tr>\n",
       "      <th>173</th>\n",
       "      <td>Kharkiv</td>\n",
       "      <td>sweeter</td>\n",
       "      <td>coffee shop</td>\n",
       "      <td>4.6</td>\n",
       "      <td>289.0</td>\n",
       "      <td>False</td>\n",
       "      <td>True</td>\n",
       "      <td>True</td>\n",
       "    </tr>\n",
       "    <tr>\n",
       "      <th>181</th>\n",
       "      <td>Dnipro</td>\n",
       "      <td>dim kavy</td>\n",
       "      <td>store</td>\n",
       "      <td>4.9</td>\n",
       "      <td>39.0</td>\n",
       "      <td>Unknown</td>\n",
       "      <td>False</td>\n",
       "      <td>False</td>\n",
       "    </tr>\n",
       "  </tbody>\n",
       "</table>\n",
       "</div>"
      ],
      "text/plain": [
       "          Region               Place name    Place type  Rating  Reviews  \\\n",
       "23       Poltava             coffee house          cafe     4.7    329.0   \n",
       "45       Kherson             coffee house   coffee shop     4.7    279.0   \n",
       "47       Kherson                 coffeeok   coffee shop     4.9     18.0   \n",
       "54       Kherson             coffee house   coffee shop     4.4     67.0   \n",
       "66    Zaporozhye                 dim kavy  espresso bar     4.8    118.0   \n",
       "68    Zaporozhye             coffee house         store     4.7    132.0   \n",
       "71    Zaporozhye                my coffee   coffee shop     4.5    341.0   \n",
       "75    Zaporozhye                svit kavy   coffee shop     4.6    488.0   \n",
       "97        Odessa                my coffee   coffee shop     4.8    150.0   \n",
       "100         Lviv  lviv coffee manufacture   coffee shop     4.7  17937.0   \n",
       "101         Lviv                svit kavy   coffee shop     4.6   2931.0   \n",
       "107         Lviv                svit kavy   coffee shop     4.3    102.0   \n",
       "108         Lviv  lviv coffee manufacture   coffee shop     4.5    778.0   \n",
       "112         Lviv             coffee house   coffee shop     4.7    363.0   \n",
       "120  Khrivoy Rog                  sv кафе          cafe     4.5    998.0   \n",
       "132  Khrivoy Rog                  sv кафе          cafe     4.6    740.0   \n",
       "140         Kiev                 coffeeok  coffee store     4.9   1820.0   \n",
       "151         Kiev                    kaffa          cafe     4.7   1281.0   \n",
       "154         Kiev                    kaffa  espresso bar     4.8    824.0   \n",
       "161      Kharkiv             coffee house  espresso bar     4.5    268.0   \n",
       "162      Kharkiv                  sweeter   coffee shop     4.6    642.0   \n",
       "167      Kharkiv             coffee house          cafe     4.6     96.0   \n",
       "171      Kharkiv                 dim kavy  espresso bar     4.7    185.0   \n",
       "172      Kharkiv                 dim kavy  coffee store     4.7    222.0   \n",
       "173      Kharkiv                  sweeter   coffee shop     4.6    289.0   \n",
       "181       Dnipro                 dim kavy         store     4.9     39.0   \n",
       "\n",
       "    Delivery option Dine in option Takeout option  \n",
       "23            False          False           True  \n",
       "45            False           True           True  \n",
       "47            False          False           True  \n",
       "54            False          False           True  \n",
       "66          Unknown          False          False  \n",
       "68          Unknown          False          False  \n",
       "71            False           True           True  \n",
       "75            False           True           True  \n",
       "97            False           True           True  \n",
       "100            True           True           True  \n",
       "101         Unknown           True           True  \n",
       "107         Unknown           True           True  \n",
       "108           False           True           True  \n",
       "112           False           True           True  \n",
       "120            True           True           True  \n",
       "132           False           True           True  \n",
       "140            True          False          False  \n",
       "151           False           True           True  \n",
       "154           False           True           True  \n",
       "161         Unknown          False          False  \n",
       "162           False           True           True  \n",
       "167           False          False          False  \n",
       "171         Unknown          False          False  \n",
       "172         Unknown           True           True  \n",
       "173           False           True           True  \n",
       "181         Unknown          False          False  "
      ]
     },
     "execution_count": 18,
     "metadata": {},
     "output_type": "execute_result"
    }
   ],
   "source": [
    "data['Place name'] = data['Place name'].str.lower()\n",
    "data['Place type'] = data['Place type'].str.lower()\n",
    "data[data['Place name'].duplicated(keep=False)]"
   ]
  },
  {
   "cell_type": "code",
   "execution_count": 19,
   "id": "e344a015-1a9b-4f2a-8961-3342f59cc4cc",
   "metadata": {},
   "outputs": [
    {
     "data": {
      "text/html": [
       "<div>\n",
       "<style scoped>\n",
       "    .dataframe tbody tr th:only-of-type {\n",
       "        vertical-align: middle;\n",
       "    }\n",
       "\n",
       "    .dataframe tbody tr th {\n",
       "        vertical-align: top;\n",
       "    }\n",
       "\n",
       "    .dataframe thead th {\n",
       "        text-align: right;\n",
       "    }\n",
       "</style>\n",
       "<table border=\"1\" class=\"dataframe\">\n",
       "  <thead>\n",
       "    <tr style=\"text-align: right;\">\n",
       "      <th></th>\n",
       "      <th>Region</th>\n",
       "      <th>Place name</th>\n",
       "      <th>Place type</th>\n",
       "      <th>Rating</th>\n",
       "      <th>Reviews</th>\n",
       "      <th>Delivery option</th>\n",
       "      <th>Dine in option</th>\n",
       "      <th>Takeout option</th>\n",
       "    </tr>\n",
       "  </thead>\n",
       "  <tbody>\n",
       "    <tr>\n",
       "      <th>45</th>\n",
       "      <td>Kherson</td>\n",
       "      <td>coffee house</td>\n",
       "      <td>coffee shop</td>\n",
       "      <td>4.7</td>\n",
       "      <td>279.0</td>\n",
       "      <td>False</td>\n",
       "      <td>True</td>\n",
       "      <td>True</td>\n",
       "    </tr>\n",
       "    <tr>\n",
       "      <th>54</th>\n",
       "      <td>Kherson</td>\n",
       "      <td>coffee house</td>\n",
       "      <td>coffee shop</td>\n",
       "      <td>4.4</td>\n",
       "      <td>67.0</td>\n",
       "      <td>False</td>\n",
       "      <td>False</td>\n",
       "      <td>True</td>\n",
       "    </tr>\n",
       "    <tr>\n",
       "      <th>100</th>\n",
       "      <td>Lviv</td>\n",
       "      <td>lviv coffee manufacture</td>\n",
       "      <td>coffee shop</td>\n",
       "      <td>4.7</td>\n",
       "      <td>17937.0</td>\n",
       "      <td>True</td>\n",
       "      <td>True</td>\n",
       "      <td>True</td>\n",
       "    </tr>\n",
       "    <tr>\n",
       "      <th>101</th>\n",
       "      <td>Lviv</td>\n",
       "      <td>svit kavy</td>\n",
       "      <td>coffee shop</td>\n",
       "      <td>4.6</td>\n",
       "      <td>2931.0</td>\n",
       "      <td>Unknown</td>\n",
       "      <td>True</td>\n",
       "      <td>True</td>\n",
       "    </tr>\n",
       "    <tr>\n",
       "      <th>107</th>\n",
       "      <td>Lviv</td>\n",
       "      <td>svit kavy</td>\n",
       "      <td>coffee shop</td>\n",
       "      <td>4.3</td>\n",
       "      <td>102.0</td>\n",
       "      <td>Unknown</td>\n",
       "      <td>True</td>\n",
       "      <td>True</td>\n",
       "    </tr>\n",
       "    <tr>\n",
       "      <th>108</th>\n",
       "      <td>Lviv</td>\n",
       "      <td>lviv coffee manufacture</td>\n",
       "      <td>coffee shop</td>\n",
       "      <td>4.5</td>\n",
       "      <td>778.0</td>\n",
       "      <td>False</td>\n",
       "      <td>True</td>\n",
       "      <td>True</td>\n",
       "    </tr>\n",
       "    <tr>\n",
       "      <th>120</th>\n",
       "      <td>Khrivoy Rog</td>\n",
       "      <td>sv кафе</td>\n",
       "      <td>cafe</td>\n",
       "      <td>4.5</td>\n",
       "      <td>998.0</td>\n",
       "      <td>True</td>\n",
       "      <td>True</td>\n",
       "      <td>True</td>\n",
       "    </tr>\n",
       "    <tr>\n",
       "      <th>132</th>\n",
       "      <td>Khrivoy Rog</td>\n",
       "      <td>sv кафе</td>\n",
       "      <td>cafe</td>\n",
       "      <td>4.6</td>\n",
       "      <td>740.0</td>\n",
       "      <td>False</td>\n",
       "      <td>True</td>\n",
       "      <td>True</td>\n",
       "    </tr>\n",
       "    <tr>\n",
       "      <th>162</th>\n",
       "      <td>Kharkiv</td>\n",
       "      <td>sweeter</td>\n",
       "      <td>coffee shop</td>\n",
       "      <td>4.6</td>\n",
       "      <td>642.0</td>\n",
       "      <td>False</td>\n",
       "      <td>True</td>\n",
       "      <td>True</td>\n",
       "    </tr>\n",
       "    <tr>\n",
       "      <th>173</th>\n",
       "      <td>Kharkiv</td>\n",
       "      <td>sweeter</td>\n",
       "      <td>coffee shop</td>\n",
       "      <td>4.6</td>\n",
       "      <td>289.0</td>\n",
       "      <td>False</td>\n",
       "      <td>True</td>\n",
       "      <td>True</td>\n",
       "    </tr>\n",
       "  </tbody>\n",
       "</table>\n",
       "</div>"
      ],
      "text/plain": [
       "          Region               Place name   Place type  Rating  Reviews  \\\n",
       "45       Kherson             coffee house  coffee shop     4.7    279.0   \n",
       "54       Kherson             coffee house  coffee shop     4.4     67.0   \n",
       "100         Lviv  lviv coffee manufacture  coffee shop     4.7  17937.0   \n",
       "101         Lviv                svit kavy  coffee shop     4.6   2931.0   \n",
       "107         Lviv                svit kavy  coffee shop     4.3    102.0   \n",
       "108         Lviv  lviv coffee manufacture  coffee shop     4.5    778.0   \n",
       "120  Khrivoy Rog                  sv кафе         cafe     4.5    998.0   \n",
       "132  Khrivoy Rog                  sv кафе         cafe     4.6    740.0   \n",
       "162      Kharkiv                  sweeter  coffee shop     4.6    642.0   \n",
       "173      Kharkiv                  sweeter  coffee shop     4.6    289.0   \n",
       "\n",
       "    Delivery option Dine in option Takeout option  \n",
       "45            False           True           True  \n",
       "54            False          False           True  \n",
       "100            True           True           True  \n",
       "101         Unknown           True           True  \n",
       "107         Unknown           True           True  \n",
       "108           False           True           True  \n",
       "120            True           True           True  \n",
       "132           False           True           True  \n",
       "162           False           True           True  \n",
       "173           False           True           True  "
      ]
     },
     "execution_count": 19,
     "metadata": {},
     "output_type": "execute_result"
    }
   ],
   "source": [
    "data[data[['Place name', 'Region', 'Place type']].duplicated(keep=False)]"
   ]
  },
  {
   "cell_type": "markdown",
   "id": "4836e47a-43f9-425e-8c14-993f156a6f10",
   "metadata": {},
   "source": [
    "Many places are probably franchise coffee shops (due to the same place name). There is no any reasons to drop (or combine) rows which have the same Region, Place name and type and service options (row 163, 173 and row 101, 107) - they may be different shops with the same service offer. This needs further investigation. "
   ]
  },
  {
   "cell_type": "markdown",
   "id": "274cb837-187a-4fac-8972-0325d0fae8d2",
   "metadata": {},
   "source": [
    "## Step 2. Exploratory Data Analysis (EDA)"
   ]
  },
  {
   "cell_type": "code",
   "execution_count": 20,
   "id": "7367a3a6-9762-46a3-836d-05ef8b99aaa8",
   "metadata": {},
   "outputs": [
    {
     "data": {
      "image/png": "[encoded data removed]",
      "text/plain": [
       "<Figure size 432x288 with 1 Axes>"
      ]
     },
     "metadata": {
      "needs_background": "light"
     },
     "output_type": "display_data"
    }
   ],
   "source": [
    "sns.countplot(data=data, y='Place type', order=data['Place type'].value_counts().index);"
   ]
  },
  {
   "cell_type": "code",
   "execution_count": 21,
   "id": "7e635720-f51e-4072-ad4e-37ce845fa0d0",
   "metadata": {},
   "outputs": [
    {
     "data": {
      "image/png": "[encoded data removed]",
      "text/plain": [
       "<Figure size 432x288 with 3 Axes>"
      ]
     },
     "metadata": {
      "needs_background": "light"
     },
     "output_type": "display_data"
    }
   ],
   "source": [
    "fig, ax = plt.subplots(3, 1)\n",
    "plt.tight_layout()\n",
    "sns.countplot(data=data, y='Delivery option', order=data['Delivery option'].value_counts().index, palette=[\"red\", \"grey\", \"green\"], ax=ax[0])\n",
    "sns.countplot(data=data, y='Dine in option', order=data['Dine in option'].value_counts().index, palette=[\"green\", \"red\"], ax=ax[1])\n",
    "sns.countplot(data=data, y='Takeout option', order=data['Takeout option'].value_counts().index, palette=[\"green\", \"red\"], ax=ax[2])\n",
    "ax[0].set_xlim(0,150);"
   ]
  },
  {
   "cell_type": "code",
   "execution_count": 22,
   "id": "86a11e3d-4227-4886-b89d-540db5ea2620",
   "metadata": {},
   "outputs": [
    {
     "data": {
      "image/png": "[encoded data removed]",
      "text/plain": [
       "<Figure size 576x576 with 1 Axes>"
      ]
     },
     "metadata": {
      "needs_background": "light"
     },
     "output_type": "display_data"
    }
   ],
   "source": [
    "plt.figure(figsize=(8,8))\n",
    "sns.histplot(data['Rating'], kde=True)\n",
    "plt.title('Rating', fontsize=20);"
   ]
  },
  {
   "cell_type": "markdown",
   "id": "a6069908-d018-48d4-b10b-0790ae195f63",
   "metadata": {},
   "source": [
    "Raiting plot - most shops have rating above 4, mean is 4.66."
   ]
  },
  {
   "cell_type": "code",
   "execution_count": 23,
   "id": "26c556c5-6fc4-4812-9736-ec5ba082f382",
   "metadata": {},
   "outputs": [
    {
     "data": {
      "image/png": "[encoded data removed]",
      "text/plain": [
       "<Figure size 576x576 with 1 Axes>"
      ]
     },
     "metadata": {
      "needs_background": "light"
     },
     "output_type": "display_data"
    }
   ],
   "source": [
    "plt.figure(figsize=(8,8))\n",
    "sns.histplot(data['Reviews'], kde=True)\n",
    "plt.title('Reviews', fontsize=20);"
   ]
  },
  {
   "cell_type": "markdown",
   "id": "8aefcb2f-0250-42f2-94f8-ff88907e215d",
   "metadata": {},
   "source": [
    "Reviews plot is right skewed (min reviews are 3, max around 18k) - it means outliers, which needs more investigation. "
   ]
  },
  {
   "cell_type": "code",
   "execution_count": 24,
   "id": "38da8d35-86c3-42aa-90a2-c4e51606afee",
   "metadata": {},
   "outputs": [
    {
     "data": {
      "image/png": "[encoded data removed]",
      "text/plain": [
       "<Figure size 432x288 with 1 Axes>"
      ]
     },
     "metadata": {
      "needs_background": "light"
     },
     "output_type": "display_data"
    }
   ],
   "source": [
    "plt.boxplot(data['Reviews'])\n",
    "plt.xlabel('Reviews')\n",
    "plt.ylabel('Count')\n",
    "plt.title('Outliners of The Review Column');"
   ]
  },
  {
   "cell_type": "markdown",
   "id": "03c48663-3752-4cd1-b4c5-26a773dc5b7f",
   "metadata": {},
   "source": [
    "Only one place has extraordinary numer of review, let's find it according to rule three standard deviations."
   ]
  },
  {
   "cell_type": "code",
   "execution_count": 25,
   "id": "bcad29f2-e2d9-4d5a-a9e7-1419ffc1a06f",
   "metadata": {},
   "outputs": [
    {
     "data": {
      "text/html": [
       "<div>\n",
       "<style scoped>\n",
       "    .dataframe tbody tr th:only-of-type {\n",
       "        vertical-align: middle;\n",
       "    }\n",
       "\n",
       "    .dataframe tbody tr th {\n",
       "        vertical-align: top;\n",
       "    }\n",
       "\n",
       "    .dataframe thead th {\n",
       "        text-align: right;\n",
       "    }\n",
       "</style>\n",
       "<table border=\"1\" class=\"dataframe\">\n",
       "  <thead>\n",
       "    <tr style=\"text-align: right;\">\n",
       "      <th></th>\n",
       "      <th>Region</th>\n",
       "      <th>Place name</th>\n",
       "      <th>Place type</th>\n",
       "      <th>Rating</th>\n",
       "      <th>Reviews</th>\n",
       "      <th>Delivery option</th>\n",
       "      <th>Dine in option</th>\n",
       "      <th>Takeout option</th>\n",
       "    </tr>\n",
       "  </thead>\n",
       "  <tbody>\n",
       "    <tr>\n",
       "      <th>100</th>\n",
       "      <td>Lviv</td>\n",
       "      <td>lviv coffee manufacture</td>\n",
       "      <td>coffee shop</td>\n",
       "      <td>4.7</td>\n",
       "      <td>17937.0</td>\n",
       "      <td>True</td>\n",
       "      <td>True</td>\n",
       "      <td>True</td>\n",
       "    </tr>\n",
       "  </tbody>\n",
       "</table>\n",
       "</div>"
      ],
      "text/plain": [
       "    Region               Place name   Place type  Rating  Reviews  \\\n",
       "100   Lviv  lviv coffee manufacture  coffee shop     4.7  17937.0   \n",
       "\n",
       "    Delivery option Dine in option Takeout option  \n",
       "100            True           True           True  "
      ]
     },
     "execution_count": 25,
     "metadata": {},
     "output_type": "execute_result"
    }
   ],
   "source": [
    "review_top = data['Reviews'].std()+data['Reviews'].std()*3\n",
    "data[data['Reviews'] > review_top]"
   ]
  },
  {
   "cell_type": "markdown",
   "id": "5c25f56f-6726-452e-835d-5df40e9e02b0",
   "metadata": {},
   "source": [
    "This place looks interesting - for the sake of modeling (the results of modeling may be distorted by the outlier, because it affects the shift of descriptive statistics, e.g. mean, median, on which the models are based) should be dropped but it can be reviewed more in further analysis. "
   ]
  },
  {
   "cell_type": "code",
   "execution_count": 26,
   "id": "3c4ecb9d-c68e-495b-b617-642bd29debc6",
   "metadata": {},
   "outputs": [],
   "source": [
    "data.drop(100, axis=0, inplace=True)"
   ]
  },
  {
   "cell_type": "code",
   "execution_count": 27,
   "id": "d66ae0df-f5a6-437e-8ac5-e47569243cda",
   "metadata": {},
   "outputs": [
    {
     "data": {
      "text/html": [
       "<div>\n",
       "<style scoped>\n",
       "    .dataframe tbody tr th:only-of-type {\n",
       "        vertical-align: middle;\n",
       "    }\n",
       "\n",
       "    .dataframe tbody tr th {\n",
       "        vertical-align: top;\n",
       "    }\n",
       "\n",
       "    .dataframe thead th {\n",
       "        text-align: right;\n",
       "    }\n",
       "</style>\n",
       "<table border=\"1\" class=\"dataframe\">\n",
       "  <thead>\n",
       "    <tr style=\"text-align: right;\">\n",
       "      <th></th>\n",
       "      <th>Region</th>\n",
       "      <th>Place name</th>\n",
       "      <th>Place type</th>\n",
       "      <th>Rating</th>\n",
       "      <th>Reviews</th>\n",
       "      <th>Delivery option</th>\n",
       "      <th>Dine in option</th>\n",
       "      <th>Takeout option</th>\n",
       "    </tr>\n",
       "  </thead>\n",
       "  <tbody>\n",
       "    <tr>\n",
       "      <th>0</th>\n",
       "      <td>Mariupol</td>\n",
       "      <td>dim kavu</td>\n",
       "      <td>coffee store</td>\n",
       "      <td>4.6</td>\n",
       "      <td>206.0</td>\n",
       "      <td>Unknown</td>\n",
       "      <td>False</td>\n",
       "      <td>False</td>\n",
       "    </tr>\n",
       "    <tr>\n",
       "      <th>1</th>\n",
       "      <td>Mariupol</td>\n",
       "      <td>коферум</td>\n",
       "      <td>cafe</td>\n",
       "      <td>5.0</td>\n",
       "      <td>24.0</td>\n",
       "      <td>False</td>\n",
       "      <td>False</td>\n",
       "      <td>True</td>\n",
       "    </tr>\n",
       "    <tr>\n",
       "      <th>2</th>\n",
       "      <td>Mariupol</td>\n",
       "      <td>кофейня світ чаю</td>\n",
       "      <td>coffee shop</td>\n",
       "      <td>5.0</td>\n",
       "      <td>11.0</td>\n",
       "      <td>Unknown</td>\n",
       "      <td>False</td>\n",
       "      <td>True</td>\n",
       "    </tr>\n",
       "    <tr>\n",
       "      <th>3</th>\n",
       "      <td>Mariupol</td>\n",
       "      <td>кофейня starcoff</td>\n",
       "      <td>coffee shop</td>\n",
       "      <td>4.4</td>\n",
       "      <td>331.0</td>\n",
       "      <td>False</td>\n",
       "      <td>True</td>\n",
       "      <td>True</td>\n",
       "    </tr>\n",
       "    <tr>\n",
       "      <th>4</th>\n",
       "      <td>Mariupol</td>\n",
       "      <td>кофейня \"friend zone\"</td>\n",
       "      <td>coffee shop</td>\n",
       "      <td>5.0</td>\n",
       "      <td>12.0</td>\n",
       "      <td>Unknown</td>\n",
       "      <td>True</td>\n",
       "      <td>True</td>\n",
       "    </tr>\n",
       "    <tr>\n",
       "      <th>...</th>\n",
       "      <td>...</td>\n",
       "      <td>...</td>\n",
       "      <td>...</td>\n",
       "      <td>...</td>\n",
       "      <td>...</td>\n",
       "      <td>...</td>\n",
       "      <td>...</td>\n",
       "      <td>...</td>\n",
       "    </tr>\n",
       "    <tr>\n",
       "      <th>194</th>\n",
       "      <td>Dnipro</td>\n",
       "      <td>artist</td>\n",
       "      <td>restaurant</td>\n",
       "      <td>4.6</td>\n",
       "      <td>963.0</td>\n",
       "      <td>Unknown</td>\n",
       "      <td>True</td>\n",
       "      <td>True</td>\n",
       "    </tr>\n",
       "    <tr>\n",
       "      <th>195</th>\n",
       "      <td>Dnipro</td>\n",
       "      <td>dream cafe</td>\n",
       "      <td>cafe</td>\n",
       "      <td>4.3</td>\n",
       "      <td>646.0</td>\n",
       "      <td>False</td>\n",
       "      <td>True</td>\n",
       "      <td>True</td>\n",
       "    </tr>\n",
       "    <tr>\n",
       "      <th>196</th>\n",
       "      <td>Dnipro</td>\n",
       "      <td>рута кафе пп куліченко к.і.</td>\n",
       "      <td>cafe</td>\n",
       "      <td>4.6</td>\n",
       "      <td>16.0</td>\n",
       "      <td>False</td>\n",
       "      <td>True</td>\n",
       "      <td>True</td>\n",
       "    </tr>\n",
       "    <tr>\n",
       "      <th>197</th>\n",
       "      <td>Dnipro</td>\n",
       "      <td>ob'yektna kava</td>\n",
       "      <td>coffee shop</td>\n",
       "      <td>4.7</td>\n",
       "      <td>599.0</td>\n",
       "      <td>Unknown</td>\n",
       "      <td>True</td>\n",
       "      <td>True</td>\n",
       "    </tr>\n",
       "    <tr>\n",
       "      <th>198</th>\n",
       "      <td>Dnipro</td>\n",
       "      <td>о...марат кафе пп полістеп</td>\n",
       "      <td>cafe</td>\n",
       "      <td>4.3</td>\n",
       "      <td>341.0</td>\n",
       "      <td>Unknown</td>\n",
       "      <td>True</td>\n",
       "      <td>False</td>\n",
       "    </tr>\n",
       "  </tbody>\n",
       "</table>\n",
       "<p>199 rows × 8 columns</p>\n",
       "</div>"
      ],
      "text/plain": [
       "       Region                   Place name    Place type  Rating  Reviews  \\\n",
       "0    Mariupol                     dim kavu  coffee store     4.6    206.0   \n",
       "1    Mariupol                      коферум          cafe     5.0     24.0   \n",
       "2    Mariupol             кофейня світ чаю   coffee shop     5.0     11.0   \n",
       "3    Mariupol             кофейня starcoff   coffee shop     4.4    331.0   \n",
       "4    Mariupol        кофейня \"friend zone\"   coffee shop     5.0     12.0   \n",
       "..        ...                          ...           ...     ...      ...   \n",
       "194    Dnipro                       artist    restaurant     4.6    963.0   \n",
       "195    Dnipro                   dream cafe          cafe     4.3    646.0   \n",
       "196    Dnipro  рута кафе пп куліченко к.і.          cafe     4.6     16.0   \n",
       "197    Dnipro               ob'yektna kava   coffee shop     4.7    599.0   \n",
       "198    Dnipro   о...марат кафе пп полістеп          cafe     4.3    341.0   \n",
       "\n",
       "    Delivery option Dine in option Takeout option  \n",
       "0           Unknown          False          False  \n",
       "1             False          False           True  \n",
       "2           Unknown          False           True  \n",
       "3             False           True           True  \n",
       "4           Unknown           True           True  \n",
       "..              ...            ...            ...  \n",
       "194         Unknown           True           True  \n",
       "195           False           True           True  \n",
       "196           False           True           True  \n",
       "197         Unknown           True           True  \n",
       "198         Unknown           True          False  \n",
       "\n",
       "[199 rows x 8 columns]"
      ]
     },
     "execution_count": 27,
     "metadata": {},
     "output_type": "execute_result"
    }
   ],
   "source": [
    "data.reset_index(drop=True)"
   ]
  },
  {
   "cell_type": "code",
   "execution_count": 28,
   "id": "52fa2e5e-6520-4743-a7dd-29e688bc6db5",
   "metadata": {},
   "outputs": [
    {
     "data": {
      "text/plain": [
       "count     199.000000\n",
       "mean      535.487386\n",
       "std       656.426219\n",
       "min         3.000000\n",
       "25%        48.000000\n",
       "50%       275.000000\n",
       "75%       759.000000\n",
       "max      2931.000000\n",
       "Name: Reviews, dtype: float64"
      ]
     },
     "execution_count": 28,
     "metadata": {},
     "output_type": "execute_result"
    }
   ],
   "source": [
    "data.Reviews.describe()"
   ]
  },
  {
   "cell_type": "code",
   "execution_count": 29,
   "id": "10f3055f-0067-4118-8c5f-69ff02a40d1f",
   "metadata": {},
   "outputs": [
    {
     "data": {
      "image/png": "[encoded data removed]",
      "text/plain": [
       "<Figure size 576x576 with 1 Axes>"
      ]
     },
     "metadata": {
      "needs_background": "light"
     },
     "output_type": "display_data"
    }
   ],
   "source": [
    "plt.figure(figsize=(8,8))\n",
    "sns.histplot(data['Reviews'], kde=True)\n",
    "plt.title('Reviews', fontsize=20);"
   ]
  },
  {
   "cell_type": "code",
   "execution_count": 30,
   "id": "d22a06ca-2660-4d0c-bf5a-49b0534a27ef",
   "metadata": {},
   "outputs": [],
   "source": [
    "grouped_region_numcol = data.groupby('Region')['Reviews', 'Rating'].mean()"
   ]
  },
  {
   "cell_type": "code",
   "execution_count": 31,
   "id": "87cbfdf1-aa73-4ece-b190-0353a2f66d87",
   "metadata": {},
   "outputs": [
    {
     "data": {
      "text/html": [
       "<div>\n",
       "<style scoped>\n",
       "    .dataframe tbody tr th:only-of-type {\n",
       "        vertical-align: middle;\n",
       "    }\n",
       "\n",
       "    .dataframe tbody tr th {\n",
       "        vertical-align: top;\n",
       "    }\n",
       "\n",
       "    .dataframe thead th {\n",
       "        text-align: right;\n",
       "    }\n",
       "</style>\n",
       "<table border=\"1\" class=\"dataframe\">\n",
       "  <thead>\n",
       "    <tr style=\"text-align: right;\">\n",
       "      <th></th>\n",
       "      <th>Reviews</th>\n",
       "      <th>Rating</th>\n",
       "    </tr>\n",
       "    <tr>\n",
       "      <th>Region</th>\n",
       "      <th></th>\n",
       "      <th></th>\n",
       "    </tr>\n",
       "  </thead>\n",
       "  <tbody>\n",
       "    <tr>\n",
       "      <th>Dnipro</th>\n",
       "      <td>591.574747</td>\n",
       "      <td>4.553182</td>\n",
       "    </tr>\n",
       "    <tr>\n",
       "      <th>Kharkiv</th>\n",
       "      <td>544.450000</td>\n",
       "      <td>4.575000</td>\n",
       "    </tr>\n",
       "    <tr>\n",
       "      <th>Khrivoy Rog</th>\n",
       "      <td>461.900000</td>\n",
       "      <td>4.600000</td>\n",
       "    </tr>\n",
       "    <tr>\n",
       "      <th>Kherson</th>\n",
       "      <td>382.774747</td>\n",
       "      <td>4.643182</td>\n",
       "    </tr>\n",
       "    <tr>\n",
       "      <th>Poltava</th>\n",
       "      <td>535.250000</td>\n",
       "      <td>4.655000</td>\n",
       "    </tr>\n",
       "    <tr>\n",
       "      <th>Lviv</th>\n",
       "      <td>1096.631579</td>\n",
       "      <td>4.668421</td>\n",
       "    </tr>\n",
       "    <tr>\n",
       "      <th>Zaporozhye</th>\n",
       "      <td>389.950000</td>\n",
       "      <td>4.670000</td>\n",
       "    </tr>\n",
       "    <tr>\n",
       "      <th>Mariupol</th>\n",
       "      <td>193.800000</td>\n",
       "      <td>4.700000</td>\n",
       "    </tr>\n",
       "    <tr>\n",
       "      <th>Kiev</th>\n",
       "      <td>764.600000</td>\n",
       "      <td>4.785000</td>\n",
       "    </tr>\n",
       "    <tr>\n",
       "      <th>Odessa</th>\n",
       "      <td>422.000000</td>\n",
       "      <td>4.785000</td>\n",
       "    </tr>\n",
       "  </tbody>\n",
       "</table>\n",
       "</div>"
      ],
      "text/plain": [
       "                 Reviews    Rating\n",
       "Region                            \n",
       "Dnipro        591.574747  4.553182\n",
       "Kharkiv       544.450000  4.575000\n",
       "Khrivoy Rog   461.900000  4.600000\n",
       "Kherson       382.774747  4.643182\n",
       "Poltava       535.250000  4.655000\n",
       "Lviv         1096.631579  4.668421\n",
       "Zaporozhye    389.950000  4.670000\n",
       "Mariupol      193.800000  4.700000\n",
       "Kiev          764.600000  4.785000\n",
       "Odessa        422.000000  4.785000"
      ]
     },
     "execution_count": 31,
     "metadata": {},
     "output_type": "execute_result"
    }
   ],
   "source": [
    "grouped_region_numcol.sort_values('Rating')"
   ]
  },
  {
   "cell_type": "code",
   "execution_count": 32,
   "id": "6d6e607e-7b1f-49ed-82fc-7cf71f1c8e06",
   "metadata": {},
   "outputs": [
    {
     "data": {
      "image/png": "[encoded data removed]",
      "text/plain": [
       "<Figure size 864x864 with 2 Axes>"
      ]
     },
     "metadata": {
      "needs_background": "light"
     },
     "output_type": "display_data"
    }
   ],
   "source": [
    "plt.figure(figsize=(12,12))\n",
    "plt.subplots_adjust(hspace=0.3, wspace=0.4)\n",
    "for i, col in enumerate(grouped_region_numcol.columns.to_list()):\n",
    "    plt.subplot(2, 2, i+1)\n",
    "    sns.barplot(x=grouped_region_numcol[col], y=grouped_region_numcol.index, log=True)\n",
    "    plt.title(col +' (Log Scale)', fontsize=15)\n",
    "plt.show()"
   ]
  },
  {
   "cell_type": "markdown",
   "id": "86fadc7f-ec3b-4d76-a331-0b82120881fe",
   "metadata": {},
   "source": [
    "It is visible that numer of reviews does not correlate with high ratings (as example - look at the Lviv, it has high numer of reviews but rating is medium). Only Kiev has relatively high number of review and high raiting. "
   ]
  },
  {
   "cell_type": "markdown",
   "id": "0ff211dd-feaa-48b6-b647-85daf7afc539",
   "metadata": {},
   "source": [
    "## Step 3. Modeling"
   ]
  },
  {
   "cell_type": "markdown",
   "id": "5720720c-4ab7-499e-bffc-b753cb8223e7",
   "metadata": {},
   "source": [
    "For segmentation task optimal method is clasterization, because we deal with unlabelled data and we are looking for similarities between rows to create subsets (segments/clusters). \n",
    "First of all, elbow method should be performed to help evaluate appropriate number of clusters for dataset. After it, k-means clustering will be performed."
   ]
  },
  {
   "cell_type": "code",
   "execution_count": 33,
   "id": "2f5e39d3-88bb-479d-b580-edcde94087a1",
   "metadata": {},
   "outputs": [],
   "source": [
    "from sklearn.preprocessing import StandardScaler\n",
    "from sklearn.cluster import KMeans"
   ]
  },
  {
   "cell_type": "code",
   "execution_count": 34,
   "id": "b93a1cb4-a179-4892-b106-1daa68b46bde",
   "metadata": {},
   "outputs": [
    {
     "data": {
      "text/html": [
       "<div>\n",
       "<style scoped>\n",
       "    .dataframe tbody tr th:only-of-type {\n",
       "        vertical-align: middle;\n",
       "    }\n",
       "\n",
       "    .dataframe tbody tr th {\n",
       "        vertical-align: top;\n",
       "    }\n",
       "\n",
       "    .dataframe thead th {\n",
       "        text-align: right;\n",
       "    }\n",
       "</style>\n",
       "<table border=\"1\" class=\"dataframe\">\n",
       "  <thead>\n",
       "    <tr style=\"text-align: right;\">\n",
       "      <th></th>\n",
       "      <th>Reviews</th>\n",
       "      <th>Rating</th>\n",
       "    </tr>\n",
       "  </thead>\n",
       "  <tbody>\n",
       "    <tr>\n",
       "      <th>0</th>\n",
       "      <td>206.0</td>\n",
       "      <td>4.6</td>\n",
       "    </tr>\n",
       "    <tr>\n",
       "      <th>1</th>\n",
       "      <td>24.0</td>\n",
       "      <td>5.0</td>\n",
       "    </tr>\n",
       "    <tr>\n",
       "      <th>2</th>\n",
       "      <td>11.0</td>\n",
       "      <td>5.0</td>\n",
       "    </tr>\n",
       "    <tr>\n",
       "      <th>3</th>\n",
       "      <td>331.0</td>\n",
       "      <td>4.4</td>\n",
       "    </tr>\n",
       "    <tr>\n",
       "      <th>4</th>\n",
       "      <td>12.0</td>\n",
       "      <td>5.0</td>\n",
       "    </tr>\n",
       "    <tr>\n",
       "      <th>...</th>\n",
       "      <td>...</td>\n",
       "      <td>...</td>\n",
       "    </tr>\n",
       "    <tr>\n",
       "      <th>195</th>\n",
       "      <td>963.0</td>\n",
       "      <td>4.6</td>\n",
       "    </tr>\n",
       "    <tr>\n",
       "      <th>196</th>\n",
       "      <td>646.0</td>\n",
       "      <td>4.3</td>\n",
       "    </tr>\n",
       "    <tr>\n",
       "      <th>197</th>\n",
       "      <td>16.0</td>\n",
       "      <td>4.6</td>\n",
       "    </tr>\n",
       "    <tr>\n",
       "      <th>198</th>\n",
       "      <td>599.0</td>\n",
       "      <td>4.7</td>\n",
       "    </tr>\n",
       "    <tr>\n",
       "      <th>199</th>\n",
       "      <td>341.0</td>\n",
       "      <td>4.3</td>\n",
       "    </tr>\n",
       "  </tbody>\n",
       "</table>\n",
       "<p>199 rows × 2 columns</p>\n",
       "</div>"
      ],
      "text/plain": [
       "     Reviews  Rating\n",
       "0      206.0     4.6\n",
       "1       24.0     5.0\n",
       "2       11.0     5.0\n",
       "3      331.0     4.4\n",
       "4       12.0     5.0\n",
       "..       ...     ...\n",
       "195    963.0     4.6\n",
       "196    646.0     4.3\n",
       "197     16.0     4.6\n",
       "198    599.0     4.7\n",
       "199    341.0     4.3\n",
       "\n",
       "[199 rows x 2 columns]"
      ]
     },
     "execution_count": 34,
     "metadata": {},
     "output_type": "execute_result"
    }
   ],
   "source": [
    "data_to_cluster = data[['Reviews', 'Rating']]\n",
    "data_to_cluster"
   ]
  },
  {
   "cell_type": "code",
   "execution_count": 35,
   "id": "af2f0e94-dc5c-4017-8c94-e13609ee0ac4",
   "metadata": {},
   "outputs": [
    {
     "data": {
      "text/html": [
       "<div>\n",
       "<style scoped>\n",
       "    .dataframe tbody tr th:only-of-type {\n",
       "        vertical-align: middle;\n",
       "    }\n",
       "\n",
       "    .dataframe tbody tr th {\n",
       "        vertical-align: top;\n",
       "    }\n",
       "\n",
       "    .dataframe thead th {\n",
       "        text-align: right;\n",
       "    }\n",
       "</style>\n",
       "<table border=\"1\" class=\"dataframe\">\n",
       "  <thead>\n",
       "    <tr style=\"text-align: right;\">\n",
       "      <th></th>\n",
       "      <th>Reviews</th>\n",
       "      <th>Rating</th>\n",
       "    </tr>\n",
       "  </thead>\n",
       "  <tbody>\n",
       "    <tr>\n",
       "      <th>0</th>\n",
       "      <td>-0.503207</td>\n",
       "      <td>-0.287750</td>\n",
       "    </tr>\n",
       "    <tr>\n",
       "      <th>1</th>\n",
       "      <td>-0.781165</td>\n",
       "      <td>1.526175</td>\n",
       "    </tr>\n",
       "    <tr>\n",
       "      <th>2</th>\n",
       "      <td>-0.801019</td>\n",
       "      <td>1.526175</td>\n",
       "    </tr>\n",
       "    <tr>\n",
       "      <th>3</th>\n",
       "      <td>-0.312302</td>\n",
       "      <td>-1.194713</td>\n",
       "    </tr>\n",
       "    <tr>\n",
       "      <th>4</th>\n",
       "      <td>-0.799492</td>\n",
       "      <td>1.526175</td>\n",
       "    </tr>\n",
       "    <tr>\n",
       "      <th>...</th>\n",
       "      <td>...</td>\n",
       "      <td>...</td>\n",
       "    </tr>\n",
       "    <tr>\n",
       "      <th>194</th>\n",
       "      <td>0.652915</td>\n",
       "      <td>-0.287750</td>\n",
       "    </tr>\n",
       "    <tr>\n",
       "      <th>195</th>\n",
       "      <td>0.168780</td>\n",
       "      <td>-1.648195</td>\n",
       "    </tr>\n",
       "    <tr>\n",
       "      <th>196</th>\n",
       "      <td>-0.793383</td>\n",
       "      <td>-0.287750</td>\n",
       "    </tr>\n",
       "    <tr>\n",
       "      <th>197</th>\n",
       "      <td>0.096999</td>\n",
       "      <td>0.165731</td>\n",
       "    </tr>\n",
       "    <tr>\n",
       "      <th>198</th>\n",
       "      <td>-0.297029</td>\n",
       "      <td>-1.648195</td>\n",
       "    </tr>\n",
       "  </tbody>\n",
       "</table>\n",
       "<p>199 rows × 2 columns</p>\n",
       "</div>"
      ],
      "text/plain": [
       "      Reviews    Rating\n",
       "0   -0.503207 -0.287750\n",
       "1   -0.781165  1.526175\n",
       "2   -0.801019  1.526175\n",
       "3   -0.312302 -1.194713\n",
       "4   -0.799492  1.526175\n",
       "..        ...       ...\n",
       "194  0.652915 -0.287750\n",
       "195  0.168780 -1.648195\n",
       "196 -0.793383 -0.287750\n",
       "197  0.096999  0.165731\n",
       "198 -0.297029 -1.648195\n",
       "\n",
       "[199 rows x 2 columns]"
      ]
     },
     "execution_count": 35,
     "metadata": {},
     "output_type": "execute_result"
    }
   ],
   "source": [
    "scaler=StandardScaler()\n",
    "scaler.fit(data_to_cluster)\n",
    "data_stand = scaler.transform(data_to_cluster)\n",
    "data_stand = pd.DataFrame(data=data_stand, columns=data_to_cluster.columns)\n",
    "data_stand"
   ]
  },
  {
   "cell_type": "code",
   "execution_count": 36,
   "id": "f53de145-cca6-40c5-8867-068aa6ad7dfe",
   "metadata": {},
   "outputs": [
    {
     "data": {
      "text/html": [
       "<div>\n",
       "<style scoped>\n",
       "    .dataframe tbody tr th:only-of-type {\n",
       "        vertical-align: middle;\n",
       "    }\n",
       "\n",
       "    .dataframe tbody tr th {\n",
       "        vertical-align: top;\n",
       "    }\n",
       "\n",
       "    .dataframe thead th {\n",
       "        text-align: right;\n",
       "    }\n",
       "</style>\n",
       "<table border=\"1\" class=\"dataframe\">\n",
       "  <thead>\n",
       "    <tr style=\"text-align: right;\">\n",
       "      <th></th>\n",
       "      <th>Reviews</th>\n",
       "      <th>Rating</th>\n",
       "    </tr>\n",
       "  </thead>\n",
       "  <tbody>\n",
       "    <tr>\n",
       "      <th>count</th>\n",
       "      <td>199.00</td>\n",
       "      <td>199.00</td>\n",
       "    </tr>\n",
       "    <tr>\n",
       "      <th>mean</th>\n",
       "      <td>-0.00</td>\n",
       "      <td>-0.00</td>\n",
       "    </tr>\n",
       "    <tr>\n",
       "      <th>std</th>\n",
       "      <td>1.00</td>\n",
       "      <td>1.00</td>\n",
       "    </tr>\n",
       "    <tr>\n",
       "      <th>min</th>\n",
       "      <td>-0.81</td>\n",
       "      <td>-3.46</td>\n",
       "    </tr>\n",
       "    <tr>\n",
       "      <th>25%</th>\n",
       "      <td>-0.74</td>\n",
       "      <td>-0.29</td>\n",
       "    </tr>\n",
       "    <tr>\n",
       "      <th>50%</th>\n",
       "      <td>-0.40</td>\n",
       "      <td>0.17</td>\n",
       "    </tr>\n",
       "    <tr>\n",
       "      <th>75%</th>\n",
       "      <td>0.34</td>\n",
       "      <td>0.62</td>\n",
       "    </tr>\n",
       "    <tr>\n",
       "      <th>max</th>\n",
       "      <td>3.66</td>\n",
       "      <td>1.53</td>\n",
       "    </tr>\n",
       "  </tbody>\n",
       "</table>\n",
       "</div>"
      ],
      "text/plain": [
       "       Reviews  Rating\n",
       "count   199.00  199.00\n",
       "mean     -0.00   -0.00\n",
       "std       1.00    1.00\n",
       "min      -0.81   -3.46\n",
       "25%      -0.74   -0.29\n",
       "50%      -0.40    0.17\n",
       "75%       0.34    0.62\n",
       "max       3.66    1.53"
      ]
     },
     "execution_count": 36,
     "metadata": {},
     "output_type": "execute_result"
    }
   ],
   "source": [
    "data_stand.describe().round(2)"
   ]
  },
  {
   "cell_type": "markdown",
   "id": "dbee3132-3e68-44be-b440-b54a2ae72d81",
   "metadata": {},
   "source": [
    "### Elbow method"
   ]
  },
  {
   "cell_type": "code",
   "execution_count": 37,
   "id": "5dff5c41-bd93-4b33-b422-cadf38a13c98",
   "metadata": {},
   "outputs": [
    {
     "data": {
      "image/png": "[encoded data removed]",
      "text/plain": [
       "<Figure size 432x288 with 1 Axes>"
      ]
     },
     "metadata": {
      "needs_background": "light"
     },
     "output_type": "display_data"
    }
   ],
   "source": [
    "wcss = []\n",
    "\n",
    "for i in range(1,10):\n",
    "    kmeans = KMeans(n_clusters = i, random_state = 42)\n",
    "    kmeans.fit(data_stand)\n",
    "    wcss.append(kmeans.inertia_)\n",
    "    \n",
    "plt.plot(range(1,10), wcss)\n",
    "plt.title('The Elbow Method')\n",
    "plt.xlabel('Number of clusters')\n",
    "plt.ylabel('WCSS');"
   ]
  },
  {
   "cell_type": "markdown",
   "id": "152339ce-6f09-489e-b7f4-cb4678adf5f6",
   "metadata": {},
   "source": [
    "Based on the given Elbow plot 3 or 4 cluster can be chosen for further analysis. Nevertheless, today analysis will cover 4 clusters."
   ]
  },
  {
   "cell_type": "markdown",
   "id": "5cb91e31-86fb-47e6-a489-ade2cafb4d2e",
   "metadata": {},
   "source": [
    "### K-Means clustering"
   ]
  },
  {
   "cell_type": "code",
   "execution_count": 38,
   "id": "bab839ea-d8bb-49e4-a35b-da9176b87189",
   "metadata": {},
   "outputs": [
    {
     "data": {
      "text/html": [
       "<div>\n",
       "<style scoped>\n",
       "    .dataframe tbody tr th:only-of-type {\n",
       "        vertical-align: middle;\n",
       "    }\n",
       "\n",
       "    .dataframe tbody tr th {\n",
       "        vertical-align: top;\n",
       "    }\n",
       "\n",
       "    .dataframe thead th {\n",
       "        text-align: right;\n",
       "    }\n",
       "</style>\n",
       "<table border=\"1\" class=\"dataframe\">\n",
       "  <thead>\n",
       "    <tr style=\"text-align: right;\">\n",
       "      <th></th>\n",
       "      <th>Region</th>\n",
       "      <th>Place name</th>\n",
       "      <th>Place type</th>\n",
       "      <th>Rating</th>\n",
       "      <th>Reviews</th>\n",
       "      <th>Delivery option</th>\n",
       "      <th>Dine in option</th>\n",
       "      <th>Takeout option</th>\n",
       "      <th>cluster</th>\n",
       "    </tr>\n",
       "  </thead>\n",
       "  <tbody>\n",
       "    <tr>\n",
       "      <th>0</th>\n",
       "      <td>Mariupol</td>\n",
       "      <td>dim kavu</td>\n",
       "      <td>coffee store</td>\n",
       "      <td>4.6</td>\n",
       "      <td>206.0</td>\n",
       "      <td>Unknown</td>\n",
       "      <td>False</td>\n",
       "      <td>False</td>\n",
       "      <td>3</td>\n",
       "    </tr>\n",
       "    <tr>\n",
       "      <th>1</th>\n",
       "      <td>Mariupol</td>\n",
       "      <td>коферум</td>\n",
       "      <td>cafe</td>\n",
       "      <td>5.0</td>\n",
       "      <td>24.0</td>\n",
       "      <td>False</td>\n",
       "      <td>False</td>\n",
       "      <td>True</td>\n",
       "      <td>0</td>\n",
       "    </tr>\n",
       "    <tr>\n",
       "      <th>2</th>\n",
       "      <td>Mariupol</td>\n",
       "      <td>кофейня світ чаю</td>\n",
       "      <td>coffee shop</td>\n",
       "      <td>5.0</td>\n",
       "      <td>11.0</td>\n",
       "      <td>Unknown</td>\n",
       "      <td>False</td>\n",
       "      <td>True</td>\n",
       "      <td>0</td>\n",
       "    </tr>\n",
       "    <tr>\n",
       "      <th>3</th>\n",
       "      <td>Mariupol</td>\n",
       "      <td>кофейня starcoff</td>\n",
       "      <td>coffee shop</td>\n",
       "      <td>4.4</td>\n",
       "      <td>331.0</td>\n",
       "      <td>False</td>\n",
       "      <td>True</td>\n",
       "      <td>True</td>\n",
       "      <td>1</td>\n",
       "    </tr>\n",
       "    <tr>\n",
       "      <th>4</th>\n",
       "      <td>Mariupol</td>\n",
       "      <td>кофейня \"friend zone\"</td>\n",
       "      <td>coffee shop</td>\n",
       "      <td>5.0</td>\n",
       "      <td>12.0</td>\n",
       "      <td>Unknown</td>\n",
       "      <td>True</td>\n",
       "      <td>True</td>\n",
       "      <td>0</td>\n",
       "    </tr>\n",
       "  </tbody>\n",
       "</table>\n",
       "</div>"
      ],
      "text/plain": [
       "     Region             Place name    Place type  Rating  Reviews  \\\n",
       "0  Mariupol               dim kavu  coffee store     4.6    206.0   \n",
       "1  Mariupol                коферум          cafe     5.0     24.0   \n",
       "2  Mariupol       кофейня світ чаю   coffee shop     5.0     11.0   \n",
       "3  Mariupol       кофейня starcoff   coffee shop     4.4    331.0   \n",
       "4  Mariupol  кофейня \"friend zone\"   coffee shop     5.0     12.0   \n",
       "\n",
       "  Delivery option Dine in option Takeout option  cluster  \n",
       "0         Unknown          False          False        3  \n",
       "1           False          False           True        0  \n",
       "2         Unknown          False           True        0  \n",
       "3           False           True           True        1  \n",
       "4         Unknown           True           True        0  "
      ]
     },
     "execution_count": 38,
     "metadata": {},
     "output_type": "execute_result"
    }
   ],
   "source": [
    "kmeans = KMeans(n_clusters=4, random_state=42)\n",
    "kmeans.fit(data_stand)\n",
    "cluster_labels = kmeans.labels_\n",
    "\n",
    "data = data.assign(cluster=cluster_labels)\n",
    "data.head()"
   ]
  },
  {
   "cell_type": "code",
   "execution_count": 39,
   "id": "e457bc4b-61c1-464e-8f1d-23ab9d39048a",
   "metadata": {},
   "outputs": [
    {
     "data": {
      "text/plain": [
       "3    84\n",
       "0    58\n",
       "2    33\n",
       "1    24\n",
       "Name: cluster, dtype: int64"
      ]
     },
     "execution_count": 39,
     "metadata": {},
     "output_type": "execute_result"
    }
   ],
   "source": [
    "data['cluster'].value_counts()"
   ]
  },
  {
   "cell_type": "code",
   "execution_count": 40,
   "id": "1bd25a53-aa1a-46e0-a039-728a316a2f2a",
   "metadata": {},
   "outputs": [
    {
     "data": {
      "text/html": [
       "<div>\n",
       "<style scoped>\n",
       "    .dataframe tbody tr th:only-of-type {\n",
       "        vertical-align: middle;\n",
       "    }\n",
       "\n",
       "    .dataframe tbody tr th {\n",
       "        vertical-align: top;\n",
       "    }\n",
       "\n",
       "    .dataframe thead th {\n",
       "        text-align: right;\n",
       "    }\n",
       "</style>\n",
       "<table border=\"1\" class=\"dataframe\">\n",
       "  <thead>\n",
       "    <tr style=\"text-align: right;\">\n",
       "      <th></th>\n",
       "      <th>Rating</th>\n",
       "      <th>Reviews</th>\n",
       "    </tr>\n",
       "    <tr>\n",
       "      <th>cluster</th>\n",
       "      <th></th>\n",
       "      <th></th>\n",
       "    </tr>\n",
       "  </thead>\n",
       "  <tbody>\n",
       "    <tr>\n",
       "      <th>0</th>\n",
       "      <td>4.913793</td>\n",
       "      <td>74.431034</td>\n",
       "    </tr>\n",
       "    <tr>\n",
       "      <th>1</th>\n",
       "      <td>4.262500</td>\n",
       "      <td>416.250000</td>\n",
       "    </tr>\n",
       "    <tr>\n",
       "      <th>2</th>\n",
       "      <td>4.603030</td>\n",
       "      <td>1790.515152</td>\n",
       "    </tr>\n",
       "    <tr>\n",
       "      <th>3</th>\n",
       "      <td>4.628896</td>\n",
       "      <td>394.857023</td>\n",
       "    </tr>\n",
       "  </tbody>\n",
       "</table>\n",
       "</div>"
      ],
      "text/plain": [
       "           Rating      Reviews\n",
       "cluster                       \n",
       "0        4.913793    74.431034\n",
       "1        4.262500   416.250000\n",
       "2        4.603030  1790.515152\n",
       "3        4.628896   394.857023"
      ]
     },
     "execution_count": 40,
     "metadata": {},
     "output_type": "execute_result"
    }
   ],
   "source": [
    "data_comp = data[['Rating', 'Reviews', 'cluster']].groupby('cluster').mean()\n",
    "data_comp"
   ]
  },
  {
   "cell_type": "code",
   "execution_count": 41,
   "id": "7c4605a7-bdd3-4361-867b-6fd92731b2ba",
   "metadata": {},
   "outputs": [
    {
     "data": {
      "text/html": [
       "<div>\n",
       "<style scoped>\n",
       "    .dataframe tbody tr th:only-of-type {\n",
       "        vertical-align: middle;\n",
       "    }\n",
       "\n",
       "    .dataframe tbody tr th {\n",
       "        vertical-align: top;\n",
       "    }\n",
       "\n",
       "    .dataframe thead th {\n",
       "        text-align: right;\n",
       "    }\n",
       "</style>\n",
       "<table border=\"1\" class=\"dataframe\">\n",
       "  <thead>\n",
       "    <tr style=\"text-align: right;\">\n",
       "      <th></th>\n",
       "      <th>Rating</th>\n",
       "      <th>Reviews</th>\n",
       "      <th>rating_prop</th>\n",
       "      <th>review_prop</th>\n",
       "    </tr>\n",
       "    <tr>\n",
       "      <th>cluster</th>\n",
       "      <th></th>\n",
       "      <th></th>\n",
       "      <th></th>\n",
       "      <th></th>\n",
       "    </tr>\n",
       "  </thead>\n",
       "  <tbody>\n",
       "    <tr>\n",
       "      <th>0</th>\n",
       "      <td>4.913793</td>\n",
       "      <td>74.431034</td>\n",
       "      <td>1.000000</td>\n",
       "      <td>0.000000</td>\n",
       "    </tr>\n",
       "    <tr>\n",
       "      <th>1</th>\n",
       "      <td>4.262500</td>\n",
       "      <td>416.250000</td>\n",
       "      <td>0.000000</td>\n",
       "      <td>0.199185</td>\n",
       "    </tr>\n",
       "    <tr>\n",
       "      <th>2</th>\n",
       "      <td>4.603030</td>\n",
       "      <td>1790.515152</td>\n",
       "      <td>0.522853</td>\n",
       "      <td>1.000000</td>\n",
       "    </tr>\n",
       "    <tr>\n",
       "      <th>3</th>\n",
       "      <td>4.628896</td>\n",
       "      <td>394.857023</td>\n",
       "      <td>0.562567</td>\n",
       "      <td>0.186719</td>\n",
       "    </tr>\n",
       "  </tbody>\n",
       "</table>\n",
       "</div>"
      ],
      "text/plain": [
       "           Rating      Reviews  rating_prop  review_prop\n",
       "cluster                                                 \n",
       "0        4.913793    74.431034     1.000000     0.000000\n",
       "1        4.262500   416.250000     0.000000     0.199185\n",
       "2        4.603030  1790.515152     0.522853     1.000000\n",
       "3        4.628896   394.857023     0.562567     0.186719"
      ]
     },
     "execution_count": 41,
     "metadata": {},
     "output_type": "execute_result"
    }
   ],
   "source": [
    "rating_range = data_comp['Rating'].max() - data_comp['Rating'].min()\n",
    "data_comp['rating_prop'] = (data_comp['Rating'] - data_comp['Rating'].min()) / rating_range\n",
    "review_range = data_comp['Reviews'].max() - data_comp['Reviews'].min()\n",
    "data_comp['review_prop'] = (data_comp['Reviews'] - data_comp['Reviews'].min()) / review_range\n",
    "data_comp"
   ]
  },
  {
   "cell_type": "code",
   "execution_count": 42,
   "id": "d64bd87f-42e3-4ebe-bdc9-98be6a9aa5b9",
   "metadata": {},
   "outputs": [
    {
     "data": {
      "image/png": "[encoded data removed]",
      "text/plain": [
       "<Figure size 432x288 with 2 Axes>"
      ]
     },
     "metadata": {
      "needs_background": "light"
     },
     "output_type": "display_data"
    }
   ],
   "source": [
    "sns.heatmap(data_comp[['rating_prop', 'review_prop']], cmap =\"YlOrBr\");"
   ]
  },
  {
   "cell_type": "markdown",
   "id": "3b62f7ef-3c7c-4644-9522-230d193bca93",
   "metadata": {},
   "source": [
    "| Cluster# | Description |\n",
    "| ----------- | ----------- |\n",
    "| Cluster 0 | high rating and low reviews |\n",
    "| Cluster 1 | low raiting and low review |\n",
    "| Cluster 2 | medium raiting and high reviews |\n",
    "| Cluster 3 | medium raiting and low reviews |\n",
    "\n",
    "Cluster 2 which has medium raiting (but the highest) and high reviews are the most promising to analyse. It means that shops covered in this cluster have the best performance from dataset. "
   ]
  },
  {
   "cell_type": "code",
   "execution_count": 43,
   "id": "40716c19-2778-41b3-99b9-c2f84f01df8e",
   "metadata": {},
   "outputs": [],
   "source": [
    "cluster2 = data[data['cluster']==2]"
   ]
  },
  {
   "cell_type": "code",
   "execution_count": 44,
   "id": "5cd2814c-6420-4173-b009-686d90966493",
   "metadata": {},
   "outputs": [
    {
     "data": {
      "text/html": [
       "<div>\n",
       "<style scoped>\n",
       "    .dataframe tbody tr th:only-of-type {\n",
       "        vertical-align: middle;\n",
       "    }\n",
       "\n",
       "    .dataframe tbody tr th {\n",
       "        vertical-align: top;\n",
       "    }\n",
       "\n",
       "    .dataframe thead th {\n",
       "        text-align: right;\n",
       "    }\n",
       "</style>\n",
       "<table border=\"1\" class=\"dataframe\">\n",
       "  <thead>\n",
       "    <tr style=\"text-align: right;\">\n",
       "      <th></th>\n",
       "      <th>Region</th>\n",
       "      <th>Place name</th>\n",
       "      <th>Place type</th>\n",
       "      <th>Rating</th>\n",
       "      <th>Reviews</th>\n",
       "      <th>Delivery option</th>\n",
       "      <th>Dine in option</th>\n",
       "      <th>Takeout option</th>\n",
       "      <th>cluster</th>\n",
       "    </tr>\n",
       "  </thead>\n",
       "  <tbody>\n",
       "    <tr>\n",
       "      <th>20</th>\n",
       "      <td>Poltava</td>\n",
       "      <td>g coffee</td>\n",
       "      <td>coffee shop</td>\n",
       "      <td>4.5</td>\n",
       "      <td>1596.0</td>\n",
       "      <td>True</td>\n",
       "      <td>True</td>\n",
       "      <td>False</td>\n",
       "      <td>2</td>\n",
       "    </tr>\n",
       "    <tr>\n",
       "      <th>21</th>\n",
       "      <td>Poltava</td>\n",
       "      <td>kavun</td>\n",
       "      <td>coffee shop</td>\n",
       "      <td>4.7</td>\n",
       "      <td>1785.0</td>\n",
       "      <td>True</td>\n",
       "      <td>True</td>\n",
       "      <td>False</td>\n",
       "      <td>2</td>\n",
       "    </tr>\n",
       "    <tr>\n",
       "      <th>29</th>\n",
       "      <td>Poltava</td>\n",
       "      <td>dzhi</td>\n",
       "      <td>cafe</td>\n",
       "      <td>4.5</td>\n",
       "      <td>1195.0</td>\n",
       "      <td>True</td>\n",
       "      <td>True</td>\n",
       "      <td>True</td>\n",
       "      <td>2</td>\n",
       "    </tr>\n",
       "    <tr>\n",
       "      <th>34</th>\n",
       "      <td>Poltava</td>\n",
       "      <td>lviv handmade chocolate</td>\n",
       "      <td>chocolate shop</td>\n",
       "      <td>4.6</td>\n",
       "      <td>1376.0</td>\n",
       "      <td>False</td>\n",
       "      <td>True</td>\n",
       "      <td>True</td>\n",
       "      <td>2</td>\n",
       "    </tr>\n",
       "    <tr>\n",
       "      <th>42</th>\n",
       "      <td>Kherson</td>\n",
       "      <td>verona</td>\n",
       "      <td>european restaurant</td>\n",
       "      <td>4.5</td>\n",
       "      <td>1345.0</td>\n",
       "      <td>True</td>\n",
       "      <td>True</td>\n",
       "      <td>False</td>\n",
       "      <td>2</td>\n",
       "    </tr>\n",
       "    <tr>\n",
       "      <th>53</th>\n",
       "      <td>Kherson</td>\n",
       "      <td>koko</td>\n",
       "      <td>coffee shop</td>\n",
       "      <td>4.4</td>\n",
       "      <td>1201.0</td>\n",
       "      <td>False</td>\n",
       "      <td>True</td>\n",
       "      <td>True</td>\n",
       "      <td>2</td>\n",
       "    </tr>\n",
       "    <tr>\n",
       "      <th>78</th>\n",
       "      <td>Zaporozhye</td>\n",
       "      <td>cholla &amp; joshua</td>\n",
       "      <td>espresso bar</td>\n",
       "      <td>4.6</td>\n",
       "      <td>1482.0</td>\n",
       "      <td>False</td>\n",
       "      <td>True</td>\n",
       "      <td>False</td>\n",
       "      <td>2</td>\n",
       "    </tr>\n",
       "    <tr>\n",
       "      <th>79</th>\n",
       "      <td>Zaporozhye</td>\n",
       "      <td>dobra kava</td>\n",
       "      <td>cafe</td>\n",
       "      <td>4.3</td>\n",
       "      <td>1656.0</td>\n",
       "      <td>True</td>\n",
       "      <td>True</td>\n",
       "      <td>False</td>\n",
       "      <td>2</td>\n",
       "    </tr>\n",
       "    <tr>\n",
       "      <th>81</th>\n",
       "      <td>Odessa</td>\n",
       "      <td>traveler`s coffee</td>\n",
       "      <td>coffee shop</td>\n",
       "      <td>4.6</td>\n",
       "      <td>2700.0</td>\n",
       "      <td>True</td>\n",
       "      <td>True</td>\n",
       "      <td>True</td>\n",
       "      <td>2</td>\n",
       "    </tr>\n",
       "    <tr>\n",
       "      <th>85</th>\n",
       "      <td>Odessa</td>\n",
       "      <td>foundation coffee roasters</td>\n",
       "      <td>espresso bar</td>\n",
       "      <td>4.7</td>\n",
       "      <td>1415.0</td>\n",
       "      <td>True</td>\n",
       "      <td>True</td>\n",
       "      <td>False</td>\n",
       "      <td>2</td>\n",
       "    </tr>\n",
       "    <tr>\n",
       "      <th>89</th>\n",
       "      <td>Odessa</td>\n",
       "      <td>zheto</td>\n",
       "      <td>coffee shop</td>\n",
       "      <td>4.8</td>\n",
       "      <td>2141.0</td>\n",
       "      <td>Unknown</td>\n",
       "      <td>True</td>\n",
       "      <td>True</td>\n",
       "      <td>2</td>\n",
       "    </tr>\n",
       "    <tr>\n",
       "      <th>101</th>\n",
       "      <td>Lviv</td>\n",
       "      <td>svit kavy</td>\n",
       "      <td>coffee shop</td>\n",
       "      <td>4.6</td>\n",
       "      <td>2931.0</td>\n",
       "      <td>Unknown</td>\n",
       "      <td>True</td>\n",
       "      <td>True</td>\n",
       "      <td>2</td>\n",
       "    </tr>\n",
       "    <tr>\n",
       "      <th>102</th>\n",
       "      <td>Lviv</td>\n",
       "      <td>na bambetli</td>\n",
       "      <td>coffee shop</td>\n",
       "      <td>4.7</td>\n",
       "      <td>2089.0</td>\n",
       "      <td>False</td>\n",
       "      <td>True</td>\n",
       "      <td>True</td>\n",
       "      <td>2</td>\n",
       "    </tr>\n",
       "    <tr>\n",
       "      <th>104</th>\n",
       "      <td>Lviv</td>\n",
       "      <td>lviv coffee manufacture (valova)</td>\n",
       "      <td>coffee shop</td>\n",
       "      <td>4.6</td>\n",
       "      <td>1517.0</td>\n",
       "      <td>False</td>\n",
       "      <td>True</td>\n",
       "      <td>True</td>\n",
       "      <td>2</td>\n",
       "    </tr>\n",
       "    <tr>\n",
       "      <th>110</th>\n",
       "      <td>Lviv</td>\n",
       "      <td>вірменка</td>\n",
       "      <td>coffee shop</td>\n",
       "      <td>4.8</td>\n",
       "      <td>2873.0</td>\n",
       "      <td>False</td>\n",
       "      <td>True</td>\n",
       "      <td>True</td>\n",
       "      <td>2</td>\n",
       "    </tr>\n",
       "    <tr>\n",
       "      <th>113</th>\n",
       "      <td>Lviv</td>\n",
       "      <td>chekhovych</td>\n",
       "      <td>coffee roasters</td>\n",
       "      <td>4.6</td>\n",
       "      <td>1199.0</td>\n",
       "      <td>False</td>\n",
       "      <td>True</td>\n",
       "      <td>True</td>\n",
       "      <td>2</td>\n",
       "    </tr>\n",
       "    <tr>\n",
       "      <th>114</th>\n",
       "      <td>Lviv</td>\n",
       "      <td>svit kavy (rynok sq.)</td>\n",
       "      <td>coffee shop</td>\n",
       "      <td>4.6</td>\n",
       "      <td>1284.0</td>\n",
       "      <td>False</td>\n",
       "      <td>True</td>\n",
       "      <td>True</td>\n",
       "      <td>2</td>\n",
       "    </tr>\n",
       "    <tr>\n",
       "      <th>115</th>\n",
       "      <td>Lviv</td>\n",
       "      <td>cafe 1</td>\n",
       "      <td>cafe</td>\n",
       "      <td>4.6</td>\n",
       "      <td>1570.0</td>\n",
       "      <td>True</td>\n",
       "      <td>True</td>\n",
       "      <td>True</td>\n",
       "      <td>2</td>\n",
       "    </tr>\n",
       "    <tr>\n",
       "      <th>117</th>\n",
       "      <td>Lviv</td>\n",
       "      <td>lviv croissants</td>\n",
       "      <td>cafe</td>\n",
       "      <td>4.5</td>\n",
       "      <td>2236.0</td>\n",
       "      <td>False</td>\n",
       "      <td>True</td>\n",
       "      <td>True</td>\n",
       "      <td>2</td>\n",
       "    </tr>\n",
       "    <tr>\n",
       "      <th>121</th>\n",
       "      <td>Khrivoy Rog</td>\n",
       "      <td>i feel espresso bar</td>\n",
       "      <td>cafe</td>\n",
       "      <td>4.5</td>\n",
       "      <td>1509.0</td>\n",
       "      <td>False</td>\n",
       "      <td>True</td>\n",
       "      <td>True</td>\n",
       "      <td>2</td>\n",
       "    </tr>\n",
       "    <tr>\n",
       "      <th>140</th>\n",
       "      <td>Kiev</td>\n",
       "      <td>coffeeok</td>\n",
       "      <td>coffee store</td>\n",
       "      <td>4.9</td>\n",
       "      <td>1820.0</td>\n",
       "      <td>True</td>\n",
       "      <td>False</td>\n",
       "      <td>False</td>\n",
       "      <td>2</td>\n",
       "    </tr>\n",
       "    <tr>\n",
       "      <th>148</th>\n",
       "      <td>Kiev</td>\n",
       "      <td>one love espresso bar</td>\n",
       "      <td>coffee shop</td>\n",
       "      <td>4.6</td>\n",
       "      <td>2319.0</td>\n",
       "      <td>False</td>\n",
       "      <td>True</td>\n",
       "      <td>True</td>\n",
       "      <td>2</td>\n",
       "    </tr>\n",
       "    <tr>\n",
       "      <th>150</th>\n",
       "      <td>Kiev</td>\n",
       "      <td>takava coffee-buffet</td>\n",
       "      <td>cafe</td>\n",
       "      <td>4.6</td>\n",
       "      <td>1737.0</td>\n",
       "      <td>Unknown</td>\n",
       "      <td>True</td>\n",
       "      <td>True</td>\n",
       "      <td>2</td>\n",
       "    </tr>\n",
       "    <tr>\n",
       "      <th>151</th>\n",
       "      <td>Kiev</td>\n",
       "      <td>kaffa</td>\n",
       "      <td>cafe</td>\n",
       "      <td>4.7</td>\n",
       "      <td>1281.0</td>\n",
       "      <td>False</td>\n",
       "      <td>True</td>\n",
       "      <td>True</td>\n",
       "      <td>2</td>\n",
       "    </tr>\n",
       "    <tr>\n",
       "      <th>152</th>\n",
       "      <td>Kiev</td>\n",
       "      <td>the blue cup coffee shop</td>\n",
       "      <td>espresso bar</td>\n",
       "      <td>4.6</td>\n",
       "      <td>1908.0</td>\n",
       "      <td>True</td>\n",
       "      <td>True</td>\n",
       "      <td>True</td>\n",
       "      <td>2</td>\n",
       "    </tr>\n",
       "    <tr>\n",
       "      <th>155</th>\n",
       "      <td>Kiev</td>\n",
       "      <td>london</td>\n",
       "      <td>cafe</td>\n",
       "      <td>4.7</td>\n",
       "      <td>1633.0</td>\n",
       "      <td>Unknown</td>\n",
       "      <td>True</td>\n",
       "      <td>False</td>\n",
       "      <td>2</td>\n",
       "    </tr>\n",
       "    <tr>\n",
       "      <th>158</th>\n",
       "      <td>Kiev</td>\n",
       "      <td>espressoholic</td>\n",
       "      <td>espresso bar</td>\n",
       "      <td>4.6</td>\n",
       "      <td>1300.0</td>\n",
       "      <td>False</td>\n",
       "      <td>True</td>\n",
       "      <td>True</td>\n",
       "      <td>2</td>\n",
       "    </tr>\n",
       "    <tr>\n",
       "      <th>165</th>\n",
       "      <td>Kharkiv</td>\n",
       "      <td>kofeyin</td>\n",
       "      <td>coffee shop</td>\n",
       "      <td>4.5</td>\n",
       "      <td>2914.0</td>\n",
       "      <td>False</td>\n",
       "      <td>True</td>\n",
       "      <td>True</td>\n",
       "      <td>2</td>\n",
       "    </tr>\n",
       "    <tr>\n",
       "      <th>168</th>\n",
       "      <td>Kharkiv</td>\n",
       "      <td>cats and coffee | киці та кава</td>\n",
       "      <td>espresso bar</td>\n",
       "      <td>4.6</td>\n",
       "      <td>1394.0</td>\n",
       "      <td>True</td>\n",
       "      <td>True</td>\n",
       "      <td>True</td>\n",
       "      <td>2</td>\n",
       "    </tr>\n",
       "    <tr>\n",
       "      <th>178</th>\n",
       "      <td>Kharkiv</td>\n",
       "      <td>kofein®</td>\n",
       "      <td>coffee shop</td>\n",
       "      <td>4.6</td>\n",
       "      <td>1758.0</td>\n",
       "      <td>Unknown</td>\n",
       "      <td>True</td>\n",
       "      <td>True</td>\n",
       "      <td>2</td>\n",
       "    </tr>\n",
       "    <tr>\n",
       "      <th>180</th>\n",
       "      <td>Dnipro</td>\n",
       "      <td>doubledecker cake and coffee</td>\n",
       "      <td>pastry shop</td>\n",
       "      <td>4.7</td>\n",
       "      <td>2381.0</td>\n",
       "      <td>True</td>\n",
       "      <td>True</td>\n",
       "      <td>True</td>\n",
       "      <td>2</td>\n",
       "    </tr>\n",
       "    <tr>\n",
       "      <th>183</th>\n",
       "      <td>Dnipro</td>\n",
       "      <td>i feel city cafe</td>\n",
       "      <td>cafe</td>\n",
       "      <td>4.5</td>\n",
       "      <td>1529.0</td>\n",
       "      <td>True</td>\n",
       "      <td>True</td>\n",
       "      <td>True</td>\n",
       "      <td>2</td>\n",
       "    </tr>\n",
       "    <tr>\n",
       "      <th>192</th>\n",
       "      <td>Dnipro</td>\n",
       "      <td>try bobry</td>\n",
       "      <td>coffee shop</td>\n",
       "      <td>4.6</td>\n",
       "      <td>2013.0</td>\n",
       "      <td>False</td>\n",
       "      <td>True</td>\n",
       "      <td>True</td>\n",
       "      <td>2</td>\n",
       "    </tr>\n",
       "  </tbody>\n",
       "</table>\n",
       "</div>"
      ],
      "text/plain": [
       "          Region                        Place name           Place type  \\\n",
       "20       Poltava                          g coffee          coffee shop   \n",
       "21       Poltava                             kavun          coffee shop   \n",
       "29       Poltava                              dzhi                 cafe   \n",
       "34       Poltava           lviv handmade chocolate       chocolate shop   \n",
       "42       Kherson                            verona  european restaurant   \n",
       "53       Kherson                              koko          coffee shop   \n",
       "78    Zaporozhye                   cholla & joshua         espresso bar   \n",
       "79    Zaporozhye                        dobra kava                 cafe   \n",
       "81        Odessa                 traveler`s coffee          coffee shop   \n",
       "85        Odessa        foundation coffee roasters         espresso bar   \n",
       "89        Odessa                             zheto          coffee shop   \n",
       "101         Lviv                         svit kavy          coffee shop   \n",
       "102         Lviv                       na bambetli          coffee shop   \n",
       "104         Lviv  lviv coffee manufacture (valova)          coffee shop   \n",
       "110         Lviv                          вірменка          coffee shop   \n",
       "113         Lviv                        chekhovych      coffee roasters   \n",
       "114         Lviv             svit kavy (rynok sq.)          coffee shop   \n",
       "115         Lviv                            cafe 1                 cafe   \n",
       "117         Lviv                   lviv croissants                 cafe   \n",
       "121  Khrivoy Rog               i feel espresso bar                 cafe   \n",
       "140         Kiev                          coffeeok         coffee store   \n",
       "148         Kiev             one love espresso bar          coffee shop   \n",
       "150         Kiev              takava coffee-buffet                 cafe   \n",
       "151         Kiev                             kaffa                 cafe   \n",
       "152         Kiev          the blue cup coffee shop         espresso bar   \n",
       "155         Kiev                            london                 cafe   \n",
       "158         Kiev                     espressoholic         espresso bar   \n",
       "165      Kharkiv                           kofeyin          coffee shop   \n",
       "168      Kharkiv    cats and coffee | киці та кава         espresso bar   \n",
       "178      Kharkiv                           kofein®          coffee shop   \n",
       "180       Dnipro      doubledecker cake and coffee          pastry shop   \n",
       "183       Dnipro                  i feel city cafe                 cafe   \n",
       "192       Dnipro                         try bobry          coffee shop   \n",
       "\n",
       "     Rating  Reviews Delivery option Dine in option Takeout option  cluster  \n",
       "20      4.5   1596.0            True           True          False        2  \n",
       "21      4.7   1785.0            True           True          False        2  \n",
       "29      4.5   1195.0            True           True           True        2  \n",
       "34      4.6   1376.0           False           True           True        2  \n",
       "42      4.5   1345.0            True           True          False        2  \n",
       "53      4.4   1201.0           False           True           True        2  \n",
       "78      4.6   1482.0           False           True          False        2  \n",
       "79      4.3   1656.0            True           True          False        2  \n",
       "81      4.6   2700.0            True           True           True        2  \n",
       "85      4.7   1415.0            True           True          False        2  \n",
       "89      4.8   2141.0         Unknown           True           True        2  \n",
       "101     4.6   2931.0         Unknown           True           True        2  \n",
       "102     4.7   2089.0           False           True           True        2  \n",
       "104     4.6   1517.0           False           True           True        2  \n",
       "110     4.8   2873.0           False           True           True        2  \n",
       "113     4.6   1199.0           False           True           True        2  \n",
       "114     4.6   1284.0           False           True           True        2  \n",
       "115     4.6   1570.0            True           True           True        2  \n",
       "117     4.5   2236.0           False           True           True        2  \n",
       "121     4.5   1509.0           False           True           True        2  \n",
       "140     4.9   1820.0            True          False          False        2  \n",
       "148     4.6   2319.0           False           True           True        2  \n",
       "150     4.6   1737.0         Unknown           True           True        2  \n",
       "151     4.7   1281.0           False           True           True        2  \n",
       "152     4.6   1908.0            True           True           True        2  \n",
       "155     4.7   1633.0         Unknown           True          False        2  \n",
       "158     4.6   1300.0           False           True           True        2  \n",
       "165     4.5   2914.0           False           True           True        2  \n",
       "168     4.6   1394.0            True           True           True        2  \n",
       "178     4.6   1758.0         Unknown           True           True        2  \n",
       "180     4.7   2381.0            True           True           True        2  \n",
       "183     4.5   1529.0            True           True           True        2  \n",
       "192     4.6   2013.0           False           True           True        2  "
      ]
     },
     "execution_count": 44,
     "metadata": {},
     "output_type": "execute_result"
    }
   ],
   "source": [
    "cluster2"
   ]
  },
  {
   "cell_type": "code",
   "execution_count": 45,
   "id": "01f341ad-9aa5-446d-bd36-fab7a6ddb5dc",
   "metadata": {},
   "outputs": [
    {
     "name": "stdout",
     "output_type": "stream",
     "text": [
      "Number of Coffee Places in Cluster 2: 33\n"
     ]
    }
   ],
   "source": [
    "print('Number of Coffee Places in Cluster 2:', len(cluster2))"
   ]
  },
  {
   "cell_type": "code",
   "execution_count": 46,
   "id": "cdb8d793-9310-405d-8ada-fcabca4c881e",
   "metadata": {},
   "outputs": [
    {
     "data": {
      "image/png": "[encoded data removed]",
      "text/plain": [
       "<Figure size 432x288 with 1 Axes>"
      ]
     },
     "metadata": {
      "needs_background": "light"
     },
     "output_type": "display_data"
    }
   ],
   "source": [
    "sns.countplot(data=cluster2, y='Place type', order=cluster2['Place type'].value_counts().index)\n",
    "plt.title(\"Place type in Cluster 2\");"
   ]
  },
  {
   "cell_type": "code",
   "execution_count": 47,
   "id": "4b086fa4-84a1-4371-a343-247615519881",
   "metadata": {},
   "outputs": [
    {
     "data": {
      "image/png": "[encoded data removed]",
      "text/plain": [
       "<Figure size 432x288 with 3 Axes>"
      ]
     },
     "metadata": {
      "needs_background": "light"
     },
     "output_type": "display_data"
    }
   ],
   "source": [
    "fig, ax = plt.subplots(3, 1)\n",
    "plt.tight_layout()\n",
    "sns.countplot(data=cluster2, y='Delivery option', order=cluster2['Delivery option'].value_counts().index, palette=[\"red\", \"green\", \"grey\"], ax=ax[0])\n",
    "sns.countplot(data=cluster2, y='Dine in option', order=cluster2['Dine in option'].value_counts().index, palette=[\"green\", \"red\"], ax=ax[1])\n",
    "sns.countplot(data=cluster2, y='Takeout option', order=cluster2['Takeout option'].value_counts().index, palette=[\"green\", \"red\"], ax=ax[2])\n",
    "ax[0].set_xlim(0,35)\n",
    "ax[1].set_xlim(0,35)\n",
    "ax[2].set_xlim(0,35);"
   ]
  },
  {
   "cell_type": "markdown",
   "id": "59d2e44b-27f9-4f87-bfe5-84c94ad7a8c0",
   "metadata": {},
   "source": [
    "In cluster 2 the most frequent place is a coffee shop and Dine in and Takeout options. Delivery possibility seems to be not that significant, but when we compare results from Cluster 2 to the overall dataset it seems that the delivery option has a positive influence on the performance of places.\n",
    "Let's see the proportions in clusters for places where all services are possible."
   ]
  },
  {
   "cell_type": "code",
   "execution_count": 48,
   "id": "a39239b3-24b8-4d3e-9ea4-867c7126f1ad",
   "metadata": {},
   "outputs": [
    {
     "name": "stdout",
     "output_type": "stream",
     "text": [
      "Places provide all services in Cluster 2 21.2%.\n",
      "Places provide Dinein & takeout options in Cluster 2 36.4%.\n"
     ]
    }
   ],
   "source": [
    "deliver = cluster2['Delivery option'] == True\n",
    "dinein = cluster2['Dine in option'] == True\n",
    "takeout = cluster2['Takeout option'] == True\n",
    "\n",
    "all_service_2 = cluster2[deliver & dinein & takeout]\n",
    "dintout_2 = cluster2[deliver & dinein]\n",
    "prop_2_all = len(all_service_2) / len(cluster2)\n",
    "prop_2_dt = len(dintout_2) / len(cluster2)\n",
    "print('Places provide all services in Cluster 2 {:.1%}.'.format(prop_2_all))\n",
    "print('Places provide Dinein & takeout options in Cluster 2 {:.1%}.'.format(prop_2_dt))"
   ]
  },
  {
   "cell_type": "code",
   "execution_count": 49,
   "id": "1af208ba-483e-4975-8466-3af09257a786",
   "metadata": {},
   "outputs": [
    {
     "name": "stdout",
     "output_type": "stream",
     "text": [
      "Places provide all services in Cluster 0 8.6%.\n",
      "Places provide Dinein & takeout options in Cluster 0 8.6%.\n"
     ]
    }
   ],
   "source": [
    "cluster0 = data[data['cluster']==0]\n",
    "deliver = cluster0['Delivery option'] == True\n",
    "dinein = cluster0['Dine in option'] == True\n",
    "takeout = cluster0['Takeout option'] == True\n",
    "\n",
    "all_service_0 = cluster0[deliver & dinein & takeout]\n",
    "dintout_0 = cluster0[deliver & dinein]\n",
    "prop_0_all = len(all_service_0) / len(cluster0)\n",
    "prop_0_dt = len(dintout_0) / len(cluster0)\n",
    "print('Places provide all services in Cluster 0 {:.1%}.'.format(prop_0_all))\n",
    "print('Places provide Dinein & takeout options in Cluster 0 {:.1%}.'.format(prop_0_dt))"
   ]
  },
  {
   "cell_type": "code",
   "execution_count": 50,
   "id": "ce6509c4-4465-4615-8e67-7be087894b3e",
   "metadata": {},
   "outputs": [
    {
     "name": "stdout",
     "output_type": "stream",
     "text": [
      "Places provide all services in Cluster 1 4.2%.\n",
      "Places provide Dinein & takeout options in Cluster 1 4.2%.\n"
     ]
    }
   ],
   "source": [
    "cluster1 = data[data['cluster']==1]\n",
    "deliver = cluster1['Delivery option'] == True\n",
    "dinein = cluster1['Dine in option'] == True\n",
    "takeout = cluster1['Takeout option'] == True\n",
    "\n",
    "all_service_1 = cluster1[deliver & dinein & takeout]\n",
    "dintout_1 = cluster1[deliver & dinein]\n",
    "prop_1_all = len(all_service_1) / len(cluster1)\n",
    "prop_1_dt = len(dintout_1) / len(cluster1)\n",
    "print('Places provide all services in Cluster 1 {:.1%}.'.format(prop_1_all))\n",
    "print('Places provide Dinein & takeout options in Cluster 1 {:.1%}.'.format(prop_1_dt))"
   ]
  },
  {
   "cell_type": "code",
   "execution_count": 51,
   "id": "062ce474-7208-4e9c-8562-ba7f1e4082ef",
   "metadata": {},
   "outputs": [
    {
     "name": "stdout",
     "output_type": "stream",
     "text": [
      "Places provide all services in Cluster 3 10.7%.\n",
      "Places provide Dinein & takeout options in Cluster 3 11.9%.\n"
     ]
    }
   ],
   "source": [
    "cluster3 = data[data['cluster']==3]\n",
    "deliver = cluster3['Delivery option'] == True\n",
    "dinein = cluster3['Dine in option'] == True\n",
    "takeout = cluster3['Takeout option'] == True\n",
    "\n",
    "all_service_3 = cluster3[deliver & dinein & takeout]\n",
    "dintout_3 = cluster3[deliver & dinein]\n",
    "prop_3_all = len(all_service_3) / len(cluster3)\n",
    "prop_3_dt = len(dintout_3) / len(cluster3)\n",
    "print('Places provide all services in Cluster 3 {:.1%}.'.format(prop_3_all))\n",
    "print('Places provide Dinein & takeout options in Cluster 3 {:.1%}.'.format(prop_3_dt))"
   ]
  },
  {
   "cell_type": "code",
   "execution_count": 52,
   "id": "a3b3f3c6-8984-43f4-be3c-5901e6ab493a",
   "metadata": {},
   "outputs": [
    {
     "data": {
      "image/png": "[encoded data removed]",
      "text/plain": [
       "<Figure size 432x288 with 1 Axes>"
      ]
     },
     "metadata": {
      "needs_background": "light"
     },
     "output_type": "display_data"
    }
   ],
   "source": [
    "cluster = ['Cluster 0', 'Cluster 1', 'Cluster 2', 'Cluster 3']\n",
    "proportion = [prop_0_all*100, prop_1_all*100, prop_2_all*100, prop_3_all*100]\n",
    "plt.bar(cluster, proportion)\n",
    "plt.title('Proportion of places provide all services', size=16, y=1.04)\n",
    "plt.xlabel('Clusters', size=14)\n",
    "plt.ylabel('Proportion (%)', size=14);"
   ]
  },
  {
   "cell_type": "code",
   "execution_count": 53,
   "id": "eb6d5e6c-a4a6-4901-af59-d6db01258519",
   "metadata": {},
   "outputs": [
    {
     "data": {
      "image/png": "[encoded data removed]",
      "text/plain": [
       "<Figure size 432x288 with 1 Axes>"
      ]
     },
     "metadata": {
      "needs_background": "light"
     },
     "output_type": "display_data"
    }
   ],
   "source": [
    "cluster = ['Cluster 0', 'Cluster 1', 'Cluster 2', 'Cluster 3']\n",
    "proportion = [prop_0_dt*100, prop_1_dt*100, prop_2_dt*100, prop_3_dt*100]\n",
    "plt.bar(cluster, proportion)\n",
    "plt.title('Proportion of places provide Dine in & takeout services', size=16, y=1.04)\n",
    "plt.xlabel('Clusters', size=14)\n",
    "plt.ylabel('Proportion (%)', size=14);"
   ]
  },
  {
   "cell_type": "markdown",
   "id": "ad61fdf2-fed7-438f-b48e-35dd5ff3e995",
   "metadata": {},
   "source": [
    "In cluster 2 places provide provide all services are 21.2% but these where only dine in & takeout options are possible is 36.4% which are the highest result within all clusters. This is insight for the Marketing Team to consider implementing all options or at least Dine in & takeout ones."
   ]
  },
  {
   "cell_type": "code",
   "execution_count": 54,
   "id": "0d91a15e-a9a5-43a1-b6b5-6e6b4fd47da8",
   "metadata": {},
   "outputs": [
    {
     "data": {
      "text/plain": [
       "Lviv           8\n",
       "Kiev           7\n",
       "Poltava        4\n",
       "Dnipro         3\n",
       "Odessa         3\n",
       "Kharkiv        3\n",
       "Zaporozhye     2\n",
       "Kherson        2\n",
       "Khrivoy Rog    1\n",
       "Name: Region, dtype: int64"
      ]
     },
     "execution_count": 54,
     "metadata": {},
     "output_type": "execute_result"
    }
   ],
   "source": [
    "cluster2.Region.value_counts()"
   ]
  },
  {
   "cell_type": "code",
   "execution_count": 55,
   "id": "2eb0a5c5-cc86-4186-8dd9-7749090ba5c8",
   "metadata": {},
   "outputs": [
    {
     "data": {
      "image/png": "[encoded data removed]",
      "text/plain": [
       "<Figure size 432x288 with 1 Axes>"
      ]
     },
     "metadata": {
      "needs_background": "light"
     },
     "output_type": "display_data"
    }
   ],
   "source": [
    "sns.barplot(x=cluster2.Region.value_counts().index, y=cluster2.Region.value_counts())\n",
    "plt.xticks(rotation=45)\n",
    "plt.title('Places sorted by Regions (Cluster 2)')\n",
    "plt.xlabel('Regions')\n",
    "plt.ylabel('Number of places in Cluster 2');"
   ]
  },
  {
   "cell_type": "markdown",
   "id": "bae7c8fe-c2eb-429b-b309-8179983a41a7",
   "metadata": {},
   "source": [
    "## Step 4. Conclusion"
   ]
  },
  {
   "cell_type": "markdown",
   "id": "ed6d44d7-6276-4dda-925b-7fc887565bdd",
   "metadata": {},
   "source": [
    "In general, there are many types of coffee shops in Ukraine. They have different names but they differ from each other by proposing following services: Delivery, Takeout, Dine in.\n",
    "\n",
    "The analysis consists of data cleaning, EDA and modeling. The selected model was k-means with an optimal number of clusters selected by the elbow method.\n",
    "Clusters are covering data based on the rating and number of reviews.\n",
    "\n",
    "1. 4 clusters are optimal numbers for clustering by k-means. It was possible to determine the following segments:\n",
    "Cluster 0 - high rating and low reviews\n",
    "Cluster 1 - low rating and low reviews\n",
    "Cluster 2 - medium rating and high reviews\n",
    "Cluster 3 - medium rating and low reviews\n",
    "2. Cluster 2 was selected as the most promising because of the best performance compared to the others. \n",
    "Shops that provide all services are 21.2% but these where only dine-in & takeout options are possible is 36.4% which are the highest result within all clusters.\n",
    "3. Places in cluster 2 are mostly located in Lviv and Kiev.\n",
    "\n",
    "Future work:\n",
    "1. Dataset should be extended with more care (avoid missing values). The current dataset consists of many missing values and imputations that could be misleading so recommended is to gather more quality data.\n",
    "2. Collect data from reviews to make sentiment analysis. It can tell more about customer preferences.\n",
    "3. Use different modeling methods - for example hierarchical. \n"
   ]
  }
 ],
 "metadata": {
  "colab": {
   "name": "Welcome to DataCamp Workspaces.ipynb",
   "provenance": []
  },
  "kernelspec": {
   "display_name": "Python 3 (ipykernel)",
   "language": "python",
   "name": "python3"
  },
  "language_info": {
   "codemirror_mode": {
    "name": "ipython",
    "version": 3
   },
   "file_extension": ".py",
   "mimetype": "text/x-python",
   "name": "python",
   "nbconvert_exporter": "python",
   "pygments_lexer": "ipython3",
   "version": "3.8.10"
  }
 },
 "nbformat": 4,
 "nbformat_minor": 5
}
